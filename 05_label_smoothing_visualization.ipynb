{
 "cells": [
  {
   "cell_type": "code",
   "execution_count": 1,
   "metadata": {},
   "outputs": [],
   "source": [
    "import os\n",
    "import torch.nn as nn\n",
    "import torch\n",
    "import torch.nn.functional as F\n",
    "import numpy as np\n",
    "import pandas as pd\n",
    "import matplotlib\n",
    "import matplotlib.pyplot as plt\n",
    "from tqdm import tqdm\n",
    "import torchvision.transforms as transforms\n",
    "import torchvision\n",
    "\n",
    "from models import *"
   ]
  },
  {
   "cell_type": "markdown",
   "metadata": {},
   "source": [
    "---"
   ]
  },
  {
   "cell_type": "code",
   "execution_count": 2,
   "metadata": {},
   "outputs": [
    {
     "name": "stdout",
     "output_type": "stream",
     "text": [
      "Files already downloaded and verified\n",
      "Files already downloaded and verified\n"
     ]
    }
   ],
   "source": [
    "batch_size=100\n",
    "transform_test = torchvision.transforms.Compose([torchvision.transforms.ToTensor(), \n",
    "                                     torchvision.transforms.Normalize((0.4914, 0.4822, 0.4465), (0.247, 0.243, 0.261))])\n",
    "trainset = torchvision.datasets.CIFAR10(root='./data/CIFAR10', train=True, download=True, transform=transform_test)\n",
    "testset = torchvision.datasets.CIFAR10(root='./data/CIFAR10', train=False, download=True, transform=transform_test)\n",
    "train_loader = torch.utils.data.DataLoader(trainset, batch_size=batch_size, shuffle=False, num_workers=16)\n",
    "test_loader = torch.utils.data.DataLoader(testset, batch_size=batch_size, shuffle=False, num_workers=16)\n",
    "dataloaders = {}\n",
    "\n",
    "dataloaders['train'] = train_loader\n",
    "dataloaders['test'] = test_loader"
   ]
  },
  {
   "cell_type": "code",
   "execution_count": 3,
   "metadata": {},
   "outputs": [],
   "source": [
    "class Represent(nn.Module):\n",
    "    def __init__(self, base_model):\n",
    "        super(Represent, self).__init__()\n",
    "        self.conv1 = base_model.conv1\n",
    "        self.bn1 = base_model.bn1\n",
    "        self.layer1 = base_model.layer1\n",
    "        self.layer2 = base_model.layer2\n",
    "        self.layer3 = base_model.layer3\n",
    "        self.fc = base_model.fc\n",
    "        self.avgpool = base_model.avgpool\n",
    "        \n",
    "    def forward(self, x):\n",
    "        \n",
    "        out = self.conv1(x)\n",
    "        out = self.bn1(out)\n",
    "        out = self.layer1(out)\n",
    "        out = self.layer2(out)\n",
    "        out = self.layer3(out)\n",
    "        out = F.relu(out)\n",
    "        out = self.avgpool(out)\n",
    "        out = out.view(out.size(0), -1)\n",
    "        \n",
    "        return out"
   ]
  },
  {
   "cell_type": "markdown",
   "metadata": {},
   "source": [
    "---"
   ]
  },
  {
   "cell_type": "code",
   "execution_count": 4,
   "metadata": {},
   "outputs": [],
   "source": [
    "def get_statistics(dataloaders, device, representer, model, mode = 'train'):\n",
    "    label_list = np.empty((0,))\n",
    "    logit_sum_list = np.empty((0,))\n",
    "\n",
    "\n",
    "    for idx, data in enumerate(dataloaders[mode]):\n",
    "        image = data[0].to(device)\n",
    "        label = data[1].long().to(device)\n",
    "\n",
    "        output = representer(image)\n",
    "        pred = model(image)\n",
    "        \n",
    "        logit_sum = torch.sum(pred, dim=1)\n",
    "        pred = F.softmax(pred, dim=1)\n",
    "        score, prediction = torch.max(pred, dim=1)\n",
    "        \n",
    "        label_list = np.concatenate((label_list, label.cpu()))\n",
    "        logit_sum_list = np.concatenate((logit_sum_list, logit_sum.detach().cpu()))\n",
    "\n",
    "        if idx ==0:\n",
    "            out_list  = output.detach().cpu()\n",
    "            pred_list = (prediction == label).detach().cpu()\n",
    "            score_list = score.detach().cpu()\n",
    "        else:\n",
    "            out_list  = np.concatenate((out_list, output.detach().cpu()), axis=0)\n",
    "            pred_list = np.concatenate((pred_list, (prediction == label).detach().cpu()), axis=0)\n",
    "            score_list = np.concatenate((score_list, score.detach().cpu()), axis=0)\n",
    "            \n",
    "    return label_list, out_list, pred_list, score_list, logit_sum_list"
   ]
  },
  {
   "cell_type": "code",
   "execution_count": 5,
   "metadata": {},
   "outputs": [],
   "source": [
    "def get_singular_value_vector(label_list, out_list):\n",
    "    \n",
    "    singular_dict = {}\n",
    "    v_ortho_dict = {}\n",
    "    \n",
    "    for index in np.unique(label_list):\n",
    "        u, s, v = np.linalg.svd(out_list[label_list==index])\n",
    "        singular_dict[index] = s[0] / s[1]\n",
    "        v_ortho_dict[index] = torch.from_numpy(v[:2])\n",
    "\n",
    "    return singular_dict, v_ortho_dict"
   ]
  },
  {
   "cell_type": "code",
   "execution_count": 6,
   "metadata": {},
   "outputs": [],
   "source": [
    "def get_plane(v_ortho_dict, model_represents, label, device):\n",
    "    # class 0,1,2\n",
    "    model_represents = torch.from_numpy(model_represents).to(device)\n",
    "    out = None\n",
    "    sing_lbl = torch.zeros(model_represents.shape[0]) > 0.\n",
    "    \n",
    "    for i, data in enumerate(model_represents):\n",
    "        if label[i] == 0 or label[i] == 3 or label[i] == 6:\n",
    "            data = data.to(device)\n",
    "            tmp = torch.zeros(3)\n",
    "            for j in range(3):\n",
    "                tmp[j] = torch.dot(v_ortho_dict[j*3].to(device), data)\n",
    "            if out == None:\n",
    "                out = tmp.unsqueeze(0)\n",
    "            else:\n",
    "                out = torch.cat((out, tmp.unsqueeze(0)), dim=0)\n",
    "            sing_lbl[i] = True\n",
    "    return out.detach().cpu().numpy(), sing_lbl.detach().cpu().numpy()"
   ]
  },
  {
   "cell_type": "code",
   "execution_count": 7,
   "metadata": {},
   "outputs": [],
   "source": [
    "def make_orthonormal_basis(out):\n",
    "    a = (out[0]-out[1]) / np.linalg.norm(out[0]-out[1])\n",
    "    b= (out[1] - out[2]) - np.dot(out[1] - out[2], a) * a\n",
    "    b = b / np.linalg.norm(b)\n",
    "    \n",
    "    return a, b"
   ]
  },
  {
   "cell_type": "code",
   "execution_count": 8,
   "metadata": {},
   "outputs": [],
   "source": [
    "def projection(out, a, b):\n",
    "    x = []\n",
    "    y = []\n",
    "    for idx, data in enumerate(out):\n",
    "        x.append(np.dot(data, a))\n",
    "        y.append(np.dot(data, b))\n",
    "\n",
    "    x = np.array(x)\n",
    "    y = np.array(y)\n",
    "    \n",
    "    return x, y"
   ]
  },
  {
   "cell_type": "code",
   "execution_count": 9,
   "metadata": {},
   "outputs": [],
   "source": [
    "def compute_intra_cluster_divergence(cluster1):\n",
    "    cl1_mean = np.mean(cluster1, axis=0)\n",
    "    intra_cluster_divergence = 0\n",
    "\n",
    "    for i in range(cluster1.shape[0]):\n",
    "        intra_cluster_divergence += np.linalg.norm(cluster1[i] - cl1_mean) ** 2\n",
    "                \n",
    "    return intra_cluster_divergence"
   ]
  },
  {
   "cell_type": "code",
   "execution_count": 10,
   "metadata": {},
   "outputs": [],
   "source": [
    "def verify_cluster(x, y, label_list, sing_lbl):\n",
    "    cluster1 = np.concatenate((np.expand_dims(np.array(x[label_list[sing_lbl]==0]), 0), np.expand_dims(np.array(y[label_list[sing_lbl]==0]), 0)),axis=0).transpose()\n",
    "    cluster2 = np.concatenate((np.expand_dims(np.array(x[label_list[sing_lbl]==3]), 0), np.expand_dims(np.array(y[label_list[sing_lbl]==3]), 0)),axis=0).transpose()\n",
    "    cluster3 = np.concatenate((np.expand_dims(np.array(x[label_list[sing_lbl]==6]), 0), np.expand_dims(np.array(y[label_list[sing_lbl]==6]), 0)),axis=0).transpose()\n",
    "    \n",
    "    cl1_mean = np.mean(cluster1, axis=0)\n",
    "    cl2_mean = np.mean(cluster2, axis=0)\n",
    "    cl3_mean = np.mean(cluster3, axis=0)\n",
    "\n",
    "    all_mean = (cl1_mean + cl2_mean + cl3_mean) / 3\n",
    "    \n",
    "    inter_cluster_divergence = (np.linalg.norm(cl1_mean - all_mean)**2 + np.linalg.norm(cl2_mean - all_mean)**2 + np.linalg.norm(cl3_mean - all_mean)**2)/3\n",
    "    intra_cluster_divergence = compute_intra_cluster_divergence(cluster1) + compute_intra_cluster_divergence(cluster2) + compute_intra_cluster_divergence(cluster3)\n",
    "    \n",
    "    return inter_cluster_divergence, intra_cluster_divergence\n",
    "    "
   ]
  },
  {
   "cell_type": "markdown",
   "metadata": {},
   "source": [
    "---"
   ]
  },
  {
   "cell_type": "markdown",
   "metadata": {},
   "source": [
    "# SNR"
   ]
  },
  {
   "cell_type": "code",
   "execution_count": 12,
   "metadata": {},
   "outputs": [
    {
     "data": {
      "text/plain": [
       "ResNet(\n",
       "  (conv1): Conv2d(3, 64, kernel_size=(3, 3), stride=(1, 1), padding=(1, 1), bias=False)\n",
       "  (bn1): BatchNorm2d(64, eps=1e-05, momentum=0.1, affine=True, track_running_stats=True)\n",
       "  (relu): ReLU(inplace=True)\n",
       "  (layer1): Sequential(\n",
       "    (0): BasicBlock(\n",
       "      (conv1): Conv2d(64, 64, kernel_size=(3, 3), stride=(1, 1), padding=(1, 1), bias=False)\n",
       "      (conv2): Conv2d(64, 64, kernel_size=(3, 3), stride=(1, 1), padding=(1, 1), bias=False)\n",
       "      (relu): ReLU(inplace=True)\n",
       "      (bn1): BatchNorm2d(64, eps=1e-05, momentum=0.1, affine=True, track_running_stats=True)\n",
       "      (bn2): BatchNorm2d(64, eps=1e-05, momentum=0.1, affine=True, track_running_stats=True)\n",
       "    )\n",
       "    (1): BasicBlock(\n",
       "      (conv1): Conv2d(64, 64, kernel_size=(3, 3), stride=(1, 1), padding=(1, 1), bias=False)\n",
       "      (conv2): Conv2d(64, 64, kernel_size=(3, 3), stride=(1, 1), padding=(1, 1), bias=False)\n",
       "      (relu): ReLU(inplace=True)\n",
       "      (bn1): BatchNorm2d(64, eps=1e-05, momentum=0.1, affine=True, track_running_stats=True)\n",
       "      (bn2): BatchNorm2d(64, eps=1e-05, momentum=0.1, affine=True, track_running_stats=True)\n",
       "    )\n",
       "    (2): BasicBlock(\n",
       "      (conv1): Conv2d(64, 64, kernel_size=(3, 3), stride=(1, 1), padding=(1, 1), bias=False)\n",
       "      (conv2): Conv2d(64, 64, kernel_size=(3, 3), stride=(1, 1), padding=(1, 1), bias=False)\n",
       "      (relu): ReLU(inplace=True)\n",
       "      (bn1): BatchNorm2d(64, eps=1e-05, momentum=0.1, affine=True, track_running_stats=True)\n",
       "      (bn2): BatchNorm2d(64, eps=1e-05, momentum=0.1, affine=True, track_running_stats=True)\n",
       "    )\n",
       "    (3): BasicBlock(\n",
       "      (conv1): Conv2d(64, 64, kernel_size=(3, 3), stride=(1, 1), padding=(1, 1), bias=False)\n",
       "      (conv2): Conv2d(64, 64, kernel_size=(3, 3), stride=(1, 1), padding=(1, 1), bias=False)\n",
       "      (relu): ReLU(inplace=True)\n",
       "      (bn1): BatchNorm2d(64, eps=1e-05, momentum=0.1, affine=True, track_running_stats=True)\n",
       "      (bn2): BatchNorm2d(64, eps=1e-05, momentum=0.1, affine=True, track_running_stats=True)\n",
       "    )\n",
       "    (4): BasicBlock(\n",
       "      (conv1): Conv2d(64, 64, kernel_size=(3, 3), stride=(1, 1), padding=(1, 1), bias=False)\n",
       "      (conv2): Conv2d(64, 64, kernel_size=(3, 3), stride=(1, 1), padding=(1, 1), bias=False)\n",
       "      (relu): ReLU(inplace=True)\n",
       "      (bn1): BatchNorm2d(64, eps=1e-05, momentum=0.1, affine=True, track_running_stats=True)\n",
       "      (bn2): BatchNorm2d(64, eps=1e-05, momentum=0.1, affine=True, track_running_stats=True)\n",
       "    )\n",
       "    (5): BasicBlock(\n",
       "      (conv1): Conv2d(64, 64, kernel_size=(3, 3), stride=(1, 1), padding=(1, 1), bias=False)\n",
       "      (conv2): Conv2d(64, 64, kernel_size=(3, 3), stride=(1, 1), padding=(1, 1), bias=False)\n",
       "      (relu): ReLU(inplace=True)\n",
       "      (bn1): BatchNorm2d(64, eps=1e-05, momentum=0.1, affine=True, track_running_stats=True)\n",
       "      (bn2): BatchNorm2d(64, eps=1e-05, momentum=0.1, affine=True, track_running_stats=True)\n",
       "    )\n",
       "    (6): BasicBlock(\n",
       "      (conv1): Conv2d(64, 64, kernel_size=(3, 3), stride=(1, 1), padding=(1, 1), bias=False)\n",
       "      (conv2): Conv2d(64, 64, kernel_size=(3, 3), stride=(1, 1), padding=(1, 1), bias=False)\n",
       "      (relu): ReLU(inplace=True)\n",
       "      (bn1): BatchNorm2d(64, eps=1e-05, momentum=0.1, affine=True, track_running_stats=True)\n",
       "      (bn2): BatchNorm2d(64, eps=1e-05, momentum=0.1, affine=True, track_running_stats=True)\n",
       "    )\n",
       "    (7): BasicBlock(\n",
       "      (conv1): Conv2d(64, 64, kernel_size=(3, 3), stride=(1, 1), padding=(1, 1), bias=False)\n",
       "      (conv2): Conv2d(64, 64, kernel_size=(3, 3), stride=(1, 1), padding=(1, 1), bias=False)\n",
       "      (relu): ReLU(inplace=True)\n",
       "      (bn1): BatchNorm2d(64, eps=1e-05, momentum=0.1, affine=True, track_running_stats=True)\n",
       "      (bn2): BatchNorm2d(64, eps=1e-05, momentum=0.1, affine=True, track_running_stats=True)\n",
       "    )\n",
       "  )\n",
       "  (layer2): Sequential(\n",
       "    (0): BasicBlock(\n",
       "      (conv1): Conv2d(64, 128, kernel_size=(3, 3), stride=(2, 2), padding=(1, 1), bias=False)\n",
       "      (conv2): Conv2d(128, 128, kernel_size=(3, 3), stride=(1, 1), padding=(1, 1), bias=False)\n",
       "      (relu): ReLU(inplace=True)\n",
       "      (bn1): BatchNorm2d(128, eps=1e-05, momentum=0.1, affine=True, track_running_stats=True)\n",
       "      (bn2): BatchNorm2d(128, eps=1e-05, momentum=0.1, affine=True, track_running_stats=True)\n",
       "      (downsample): Sequential(\n",
       "        (0): Conv2d(64, 128, kernel_size=(1, 1), stride=(2, 2), bias=False)\n",
       "        (1): BatchNorm2d(128, eps=1e-05, momentum=0.1, affine=True, track_running_stats=True)\n",
       "      )\n",
       "    )\n",
       "    (1): BasicBlock(\n",
       "      (conv1): Conv2d(128, 128, kernel_size=(3, 3), stride=(1, 1), padding=(1, 1), bias=False)\n",
       "      (conv2): Conv2d(128, 128, kernel_size=(3, 3), stride=(1, 1), padding=(1, 1), bias=False)\n",
       "      (relu): ReLU(inplace=True)\n",
       "      (bn1): BatchNorm2d(128, eps=1e-05, momentum=0.1, affine=True, track_running_stats=True)\n",
       "      (bn2): BatchNorm2d(128, eps=1e-05, momentum=0.1, affine=True, track_running_stats=True)\n",
       "    )\n",
       "    (2): BasicBlock(\n",
       "      (conv1): Conv2d(128, 128, kernel_size=(3, 3), stride=(1, 1), padding=(1, 1), bias=False)\n",
       "      (conv2): Conv2d(128, 128, kernel_size=(3, 3), stride=(1, 1), padding=(1, 1), bias=False)\n",
       "      (relu): ReLU(inplace=True)\n",
       "      (bn1): BatchNorm2d(128, eps=1e-05, momentum=0.1, affine=True, track_running_stats=True)\n",
       "      (bn2): BatchNorm2d(128, eps=1e-05, momentum=0.1, affine=True, track_running_stats=True)\n",
       "    )\n",
       "    (3): BasicBlock(\n",
       "      (conv1): Conv2d(128, 128, kernel_size=(3, 3), stride=(1, 1), padding=(1, 1), bias=False)\n",
       "      (conv2): Conv2d(128, 128, kernel_size=(3, 3), stride=(1, 1), padding=(1, 1), bias=False)\n",
       "      (relu): ReLU(inplace=True)\n",
       "      (bn1): BatchNorm2d(128, eps=1e-05, momentum=0.1, affine=True, track_running_stats=True)\n",
       "      (bn2): BatchNorm2d(128, eps=1e-05, momentum=0.1, affine=True, track_running_stats=True)\n",
       "    )\n",
       "    (4): BasicBlock(\n",
       "      (conv1): Conv2d(128, 128, kernel_size=(3, 3), stride=(1, 1), padding=(1, 1), bias=False)\n",
       "      (conv2): Conv2d(128, 128, kernel_size=(3, 3), stride=(1, 1), padding=(1, 1), bias=False)\n",
       "      (relu): ReLU(inplace=True)\n",
       "      (bn1): BatchNorm2d(128, eps=1e-05, momentum=0.1, affine=True, track_running_stats=True)\n",
       "      (bn2): BatchNorm2d(128, eps=1e-05, momentum=0.1, affine=True, track_running_stats=True)\n",
       "    )\n",
       "    (5): BasicBlock(\n",
       "      (conv1): Conv2d(128, 128, kernel_size=(3, 3), stride=(1, 1), padding=(1, 1), bias=False)\n",
       "      (conv2): Conv2d(128, 128, kernel_size=(3, 3), stride=(1, 1), padding=(1, 1), bias=False)\n",
       "      (relu): ReLU(inplace=True)\n",
       "      (bn1): BatchNorm2d(128, eps=1e-05, momentum=0.1, affine=True, track_running_stats=True)\n",
       "      (bn2): BatchNorm2d(128, eps=1e-05, momentum=0.1, affine=True, track_running_stats=True)\n",
       "    )\n",
       "    (6): BasicBlock(\n",
       "      (conv1): Conv2d(128, 128, kernel_size=(3, 3), stride=(1, 1), padding=(1, 1), bias=False)\n",
       "      (conv2): Conv2d(128, 128, kernel_size=(3, 3), stride=(1, 1), padding=(1, 1), bias=False)\n",
       "      (relu): ReLU(inplace=True)\n",
       "      (bn1): BatchNorm2d(128, eps=1e-05, momentum=0.1, affine=True, track_running_stats=True)\n",
       "      (bn2): BatchNorm2d(128, eps=1e-05, momentum=0.1, affine=True, track_running_stats=True)\n",
       "    )\n",
       "    (7): BasicBlock(\n",
       "      (conv1): Conv2d(128, 128, kernel_size=(3, 3), stride=(1, 1), padding=(1, 1), bias=False)\n",
       "      (conv2): Conv2d(128, 128, kernel_size=(3, 3), stride=(1, 1), padding=(1, 1), bias=False)\n",
       "      (relu): ReLU(inplace=True)\n",
       "      (bn1): BatchNorm2d(128, eps=1e-05, momentum=0.1, affine=True, track_running_stats=True)\n",
       "      (bn2): BatchNorm2d(128, eps=1e-05, momentum=0.1, affine=True, track_running_stats=True)\n",
       "    )\n",
       "  )\n",
       "  (layer3): Sequential(\n",
       "    (0): BasicBlock(\n",
       "      (conv1): Conv2d(128, 256, kernel_size=(3, 3), stride=(2, 2), padding=(1, 1), bias=False)\n",
       "      (conv2): Conv2d(256, 256, kernel_size=(3, 3), stride=(1, 1), padding=(1, 1), bias=False)\n",
       "      (relu): ReLU(inplace=True)\n",
       "      (bn1): BatchNorm2d(256, eps=1e-05, momentum=0.1, affine=True, track_running_stats=True)\n",
       "      (bn2): BatchNorm2d(256, eps=1e-05, momentum=0.1, affine=True, track_running_stats=True)\n",
       "      (downsample): Sequential(\n",
       "        (0): Conv2d(128, 256, kernel_size=(1, 1), stride=(2, 2), bias=False)\n",
       "        (1): BatchNorm2d(256, eps=1e-05, momentum=0.1, affine=True, track_running_stats=True)\n",
       "      )\n",
       "    )\n",
       "    (1): BasicBlock(\n",
       "      (conv1): Conv2d(256, 256, kernel_size=(3, 3), stride=(1, 1), padding=(1, 1), bias=False)\n",
       "      (conv2): Conv2d(256, 256, kernel_size=(3, 3), stride=(1, 1), padding=(1, 1), bias=False)\n",
       "      (relu): ReLU(inplace=True)\n",
       "      (bn1): BatchNorm2d(256, eps=1e-05, momentum=0.1, affine=True, track_running_stats=True)\n",
       "      (bn2): BatchNorm2d(256, eps=1e-05, momentum=0.1, affine=True, track_running_stats=True)\n",
       "    )\n",
       "    (2): BasicBlock(\n",
       "      (conv1): Conv2d(256, 256, kernel_size=(3, 3), stride=(1, 1), padding=(1, 1), bias=False)\n",
       "      (conv2): Conv2d(256, 256, kernel_size=(3, 3), stride=(1, 1), padding=(1, 1), bias=False)\n",
       "      (relu): ReLU(inplace=True)\n",
       "      (bn1): BatchNorm2d(256, eps=1e-05, momentum=0.1, affine=True, track_running_stats=True)\n",
       "      (bn2): BatchNorm2d(256, eps=1e-05, momentum=0.1, affine=True, track_running_stats=True)\n",
       "    )\n",
       "    (3): BasicBlock(\n",
       "      (conv1): Conv2d(256, 256, kernel_size=(3, 3), stride=(1, 1), padding=(1, 1), bias=False)\n",
       "      (conv2): Conv2d(256, 256, kernel_size=(3, 3), stride=(1, 1), padding=(1, 1), bias=False)\n",
       "      (relu): ReLU(inplace=True)\n",
       "      (bn1): BatchNorm2d(256, eps=1e-05, momentum=0.1, affine=True, track_running_stats=True)\n",
       "      (bn2): BatchNorm2d(256, eps=1e-05, momentum=0.1, affine=True, track_running_stats=True)\n",
       "    )\n",
       "    (4): BasicBlock(\n",
       "      (conv1): Conv2d(256, 256, kernel_size=(3, 3), stride=(1, 1), padding=(1, 1), bias=False)\n",
       "      (conv2): Conv2d(256, 256, kernel_size=(3, 3), stride=(1, 1), padding=(1, 1), bias=False)\n",
       "      (relu): ReLU(inplace=True)\n",
       "      (bn1): BatchNorm2d(256, eps=1e-05, momentum=0.1, affine=True, track_running_stats=True)\n",
       "      (bn2): BatchNorm2d(256, eps=1e-05, momentum=0.1, affine=True, track_running_stats=True)\n",
       "    )\n",
       "    (5): BasicBlock(\n",
       "      (conv1): Conv2d(256, 256, kernel_size=(3, 3), stride=(1, 1), padding=(1, 1), bias=False)\n",
       "      (conv2): Conv2d(256, 256, kernel_size=(3, 3), stride=(1, 1), padding=(1, 1), bias=False)\n",
       "      (relu): ReLU(inplace=True)\n",
       "      (bn1): BatchNorm2d(256, eps=1e-05, momentum=0.1, affine=True, track_running_stats=True)\n",
       "      (bn2): BatchNorm2d(256, eps=1e-05, momentum=0.1, affine=True, track_running_stats=True)\n",
       "    )\n",
       "    (6): BasicBlock(\n",
       "      (conv1): Conv2d(256, 256, kernel_size=(3, 3), stride=(1, 1), padding=(1, 1), bias=False)\n",
       "      (conv2): Conv2d(256, 256, kernel_size=(3, 3), stride=(1, 1), padding=(1, 1), bias=False)\n",
       "      (relu): ReLU(inplace=True)\n",
       "      (bn1): BatchNorm2d(256, eps=1e-05, momentum=0.1, affine=True, track_running_stats=True)\n",
       "      (bn2): BatchNorm2d(256, eps=1e-05, momentum=0.1, affine=True, track_running_stats=True)\n",
       "    )\n",
       "    (7): BasicBlock(\n",
       "      (conv1): Conv2d(256, 256, kernel_size=(3, 3), stride=(1, 1), padding=(1, 1), bias=False)\n",
       "      (conv2): Conv2d(256, 256, kernel_size=(3, 3), stride=(1, 1), padding=(1, 1), bias=False)\n",
       "      (relu): ReLU(inplace=True)\n",
       "      (bn1): BatchNorm2d(256, eps=1e-05, momentum=0.1, affine=True, track_running_stats=True)\n",
       "      (bn2): BatchNorm2d(256, eps=1e-05, momentum=0.1, affine=True, track_running_stats=True)\n",
       "    )\n",
       "  )\n",
       "  (avgpool): AvgPool2d(kernel_size=8, stride=8, padding=0)\n",
       "  (fc): Linear(in_features=256, out_features=10, bias=True)\n",
       ")"
      ]
     },
     "execution_count": 12,
     "metadata": {},
     "output_type": "execute_result"
    }
   ],
   "source": [
    "device = 'cuda:0'\n",
    "\n",
    "# teacher = ResNet(opt = 'none', init = 'kaiming', num_classes = 10, batchnorm = True, width = 4, depth = 50, bottleneck= True)\n",
    "teacher = ResNet(opt = 'none', init = 'kaiming', num_classes = 10, batchnorm = True, width = 4, depth = 50, bottleneck= False)\n",
    "\n",
    "# filename = './checkpoint/cifar10/res-50-4-t-bn/sgd/step/kaiming_both_none_0.1_0.1_0.1_0.1_seed1_False.pt'\n",
    "filename = './checkpoint/cifar10/res-50-4-f-bn/sgd/step/ort_both_sin_srip_0.01_0.01_0.01_0.01_seed1_True.pt'\n",
    "# filename = './checkpoint/cifar10/res-50-4-f-bn/sgd/step/ort_both_norm_0.1_0.1_0.1_0.1_seed1_True.pt'\n",
    "# filename = './checkpoint/cifar10/res-50-4-f-bn/sgd/step/ort_both_ortho_0.01_0.01_0.01_0.01_seed4_True.pt' # ortho\n",
    "# filename = './checkpoint/cifar10/res-50-4-f-bn/sgd/step/xavier_both_ort_0.1_0.1_0.1_0.1_seed1_True.pt' #norm\n",
    "\n",
    "checkpoint = torch.load(filename, map_location=device)['best_wts']\n",
    "teacher.load_state_dict(checkpoint, strict=False)\n",
    "teacher.eval()"
   ]
  },
  {
   "cell_type": "code",
   "execution_count": 13,
   "metadata": {},
   "outputs": [],
   "source": [
    "teacher = teacher.to(device)\n",
    "representer = Represent(teacher)"
   ]
  },
  {
   "cell_type": "code",
   "execution_count": 14,
   "metadata": {},
   "outputs": [],
   "source": [
    "label_list, out_list, pred_list, score_list, logit_sum_list = get_statistics(dataloaders, device, representer, teacher, mode='train')\n",
    "# singular_dict, v_ortho_dict = get_singular_value_vector(label_list, out_list)\n",
    "v_ortho_dict = teacher.fc.weight\n",
    "out, sing_lbl = get_plane(v_ortho_dict,out_list, label_list, device)\n",
    "a, b = make_orthonormal_basis(out)\n",
    "x, y = projection(out, a, b)"
   ]
  },
  {
   "cell_type": "code",
   "execution_count": 17,
   "metadata": {},
   "outputs": [
    {
     "data": {
      "image/png": "[encoded data removed]",
      "text/plain": [
       "<Figure size 432x288 with 1 Axes>"
      ]
     },
     "metadata": {
      "needs_background": "light"
     },
     "output_type": "display_data"
    }
   ],
   "source": [
    "## snr\n",
    "plt.plot(x[label_list[sing_lbl]==0],y[label_list[sing_lbl]==0],'.')\n",
    "plt.plot(x[label_list[sing_lbl]==3],y[label_list[sing_lbl]==3],'.')\n",
    "plt.plot(x[label_list[sing_lbl]==6],y[label_list[sing_lbl]==6],'.')\n",
    "plt.xlim(-40,40)\n",
    "plt.ylim(-40,40)\n",
    "plt.rcParams.update({'font.size': 18})\n",
    "plt.savefig('snr_visual_train.pdf')"
   ]
  },
  {
   "cell_type": "code",
   "execution_count": 18,
   "metadata": {},
   "outputs": [],
   "source": [
    "label_list, out_list, pred_list, score_list, logit_sum_list = get_statistics(dataloaders, device, representer, teacher, mode='test')\n",
    "# singular_dict, v_ortho_dict = get_singular_value_vector(label_list, out_list)\n",
    "v_ortho_dict = teacher.fc.weight\n",
    "out, sing_lbl = get_plane(v_ortho_dict,out_list, label_list, device)\n",
    "# a, b = make_orthonormal_basis(out)\n",
    "x, y = projection(out, a, b)"
   ]
  },
  {
   "cell_type": "code",
   "execution_count": 19,
   "metadata": {},
   "outputs": [
    {
     "name": "stdout",
     "output_type": "stream",
     "text": [
      "(184.60297218622478, 99945.31136108417)\n"
     ]
    },
    {
     "data": {
      "image/png": "[encoded data removed]",
      "text/plain": [
       "<Figure size 432x288 with 1 Axes>"
      ]
     },
     "metadata": {
      "needs_background": "light"
     },
     "output_type": "display_data"
    }
   ],
   "source": [
    "## VANILLA\n",
    "plt.plot(x[label_list[sing_lbl]==0],y[label_list[sing_lbl]==0],'.')\n",
    "plt.plot(x[label_list[sing_lbl]==3],y[label_list[sing_lbl]==3],'.')\n",
    "plt.plot(x[label_list[sing_lbl]==6],y[label_list[sing_lbl]==6],'.')\n",
    "plt.xlim(-40,40)\n",
    "plt.ylim(-40,40)\n",
    "plt.rcParams.update({'font.size': 18})\n",
    "plt.savefig('snr_visual_test.pdf')\n",
    "print(verify_cluster(x,y,label_list, sing_lbl))"
   ]
  },
  {
   "cell_type": "code",
   "execution_count": 20,
   "metadata": {},
   "outputs": [
    {
     "data": {
      "text/plain": [
       "33.31510378702806"
      ]
     },
     "execution_count": 20,
     "metadata": {},
     "output_type": "execute_result"
    }
   ],
   "source": [
    "99945.31136108417 / 3000"
   ]
  },
  {
   "cell_type": "code",
   "execution_count": 21,
   "metadata": {},
   "outputs": [
    {
     "data": {
      "text/plain": [
       "8303.36761336366"
      ]
     },
     "execution_count": 21,
     "metadata": {},
     "output_type": "execute_result"
    }
   ],
   "source": [
    "184.60297218622478 / 33.31510378702806/2 * 2997"
   ]
  },
  {
   "cell_type": "markdown",
   "metadata": {},
   "source": [
    "# Vanilla"
   ]
  },
  {
   "cell_type": "code",
   "execution_count": 17,
   "metadata": {
    "collapsed": true,
    "jupyter": {
     "outputs_hidden": true
    }
   },
   "outputs": [
    {
     "data": {
      "text/plain": [
       "ResNet(\n",
       "  (conv1): Conv2d(3, 64, kernel_size=(3, 3), stride=(1, 1), padding=(1, 1), bias=False)\n",
       "  (bn1): BatchNorm2d(64, eps=1e-05, momentum=0.1, affine=True, track_running_stats=True)\n",
       "  (relu): ReLU(inplace=True)\n",
       "  (layer1): Sequential(\n",
       "    (0): BasicBlock(\n",
       "      (conv1): Conv2d(64, 64, kernel_size=(3, 3), stride=(1, 1), padding=(1, 1), bias=False)\n",
       "      (conv2): Conv2d(64, 64, kernel_size=(3, 3), stride=(1, 1), padding=(1, 1), bias=False)\n",
       "      (relu): ReLU(inplace=True)\n",
       "      (bn1): BatchNorm2d(64, eps=1e-05, momentum=0.1, affine=True, track_running_stats=True)\n",
       "      (bn2): BatchNorm2d(64, eps=1e-05, momentum=0.1, affine=True, track_running_stats=True)\n",
       "    )\n",
       "    (1): BasicBlock(\n",
       "      (conv1): Conv2d(64, 64, kernel_size=(3, 3), stride=(1, 1), padding=(1, 1), bias=False)\n",
       "      (conv2): Conv2d(64, 64, kernel_size=(3, 3), stride=(1, 1), padding=(1, 1), bias=False)\n",
       "      (relu): ReLU(inplace=True)\n",
       "      (bn1): BatchNorm2d(64, eps=1e-05, momentum=0.1, affine=True, track_running_stats=True)\n",
       "      (bn2): BatchNorm2d(64, eps=1e-05, momentum=0.1, affine=True, track_running_stats=True)\n",
       "    )\n",
       "    (2): BasicBlock(\n",
       "      (conv1): Conv2d(64, 64, kernel_size=(3, 3), stride=(1, 1), padding=(1, 1), bias=False)\n",
       "      (conv2): Conv2d(64, 64, kernel_size=(3, 3), stride=(1, 1), padding=(1, 1), bias=False)\n",
       "      (relu): ReLU(inplace=True)\n",
       "      (bn1): BatchNorm2d(64, eps=1e-05, momentum=0.1, affine=True, track_running_stats=True)\n",
       "      (bn2): BatchNorm2d(64, eps=1e-05, momentum=0.1, affine=True, track_running_stats=True)\n",
       "    )\n",
       "    (3): BasicBlock(\n",
       "      (conv1): Conv2d(64, 64, kernel_size=(3, 3), stride=(1, 1), padding=(1, 1), bias=False)\n",
       "      (conv2): Conv2d(64, 64, kernel_size=(3, 3), stride=(1, 1), padding=(1, 1), bias=False)\n",
       "      (relu): ReLU(inplace=True)\n",
       "      (bn1): BatchNorm2d(64, eps=1e-05, momentum=0.1, affine=True, track_running_stats=True)\n",
       "      (bn2): BatchNorm2d(64, eps=1e-05, momentum=0.1, affine=True, track_running_stats=True)\n",
       "    )\n",
       "    (4): BasicBlock(\n",
       "      (conv1): Conv2d(64, 64, kernel_size=(3, 3), stride=(1, 1), padding=(1, 1), bias=False)\n",
       "      (conv2): Conv2d(64, 64, kernel_size=(3, 3), stride=(1, 1), padding=(1, 1), bias=False)\n",
       "      (relu): ReLU(inplace=True)\n",
       "      (bn1): BatchNorm2d(64, eps=1e-05, momentum=0.1, affine=True, track_running_stats=True)\n",
       "      (bn2): BatchNorm2d(64, eps=1e-05, momentum=0.1, affine=True, track_running_stats=True)\n",
       "    )\n",
       "    (5): BasicBlock(\n",
       "      (conv1): Conv2d(64, 64, kernel_size=(3, 3), stride=(1, 1), padding=(1, 1), bias=False)\n",
       "      (conv2): Conv2d(64, 64, kernel_size=(3, 3), stride=(1, 1), padding=(1, 1), bias=False)\n",
       "      (relu): ReLU(inplace=True)\n",
       "      (bn1): BatchNorm2d(64, eps=1e-05, momentum=0.1, affine=True, track_running_stats=True)\n",
       "      (bn2): BatchNorm2d(64, eps=1e-05, momentum=0.1, affine=True, track_running_stats=True)\n",
       "    )\n",
       "    (6): BasicBlock(\n",
       "      (conv1): Conv2d(64, 64, kernel_size=(3, 3), stride=(1, 1), padding=(1, 1), bias=False)\n",
       "      (conv2): Conv2d(64, 64, kernel_size=(3, 3), stride=(1, 1), padding=(1, 1), bias=False)\n",
       "      (relu): ReLU(inplace=True)\n",
       "      (bn1): BatchNorm2d(64, eps=1e-05, momentum=0.1, affine=True, track_running_stats=True)\n",
       "      (bn2): BatchNorm2d(64, eps=1e-05, momentum=0.1, affine=True, track_running_stats=True)\n",
       "    )\n",
       "    (7): BasicBlock(\n",
       "      (conv1): Conv2d(64, 64, kernel_size=(3, 3), stride=(1, 1), padding=(1, 1), bias=False)\n",
       "      (conv2): Conv2d(64, 64, kernel_size=(3, 3), stride=(1, 1), padding=(1, 1), bias=False)\n",
       "      (relu): ReLU(inplace=True)\n",
       "      (bn1): BatchNorm2d(64, eps=1e-05, momentum=0.1, affine=True, track_running_stats=True)\n",
       "      (bn2): BatchNorm2d(64, eps=1e-05, momentum=0.1, affine=True, track_running_stats=True)\n",
       "    )\n",
       "  )\n",
       "  (layer2): Sequential(\n",
       "    (0): BasicBlock(\n",
       "      (conv1): Conv2d(64, 128, kernel_size=(3, 3), stride=(2, 2), padding=(1, 1), bias=False)\n",
       "      (conv2): Conv2d(128, 128, kernel_size=(3, 3), stride=(1, 1), padding=(1, 1), bias=False)\n",
       "      (relu): ReLU(inplace=True)\n",
       "      (bn1): BatchNorm2d(128, eps=1e-05, momentum=0.1, affine=True, track_running_stats=True)\n",
       "      (bn2): BatchNorm2d(128, eps=1e-05, momentum=0.1, affine=True, track_running_stats=True)\n",
       "      (downsample): Sequential(\n",
       "        (0): Conv2d(64, 128, kernel_size=(1, 1), stride=(2, 2), bias=False)\n",
       "        (1): BatchNorm2d(128, eps=1e-05, momentum=0.1, affine=True, track_running_stats=True)\n",
       "      )\n",
       "    )\n",
       "    (1): BasicBlock(\n",
       "      (conv1): Conv2d(128, 128, kernel_size=(3, 3), stride=(1, 1), padding=(1, 1), bias=False)\n",
       "      (conv2): Conv2d(128, 128, kernel_size=(3, 3), stride=(1, 1), padding=(1, 1), bias=False)\n",
       "      (relu): ReLU(inplace=True)\n",
       "      (bn1): BatchNorm2d(128, eps=1e-05, momentum=0.1, affine=True, track_running_stats=True)\n",
       "      (bn2): BatchNorm2d(128, eps=1e-05, momentum=0.1, affine=True, track_running_stats=True)\n",
       "    )\n",
       "    (2): BasicBlock(\n",
       "      (conv1): Conv2d(128, 128, kernel_size=(3, 3), stride=(1, 1), padding=(1, 1), bias=False)\n",
       "      (conv2): Conv2d(128, 128, kernel_size=(3, 3), stride=(1, 1), padding=(1, 1), bias=False)\n",
       "      (relu): ReLU(inplace=True)\n",
       "      (bn1): BatchNorm2d(128, eps=1e-05, momentum=0.1, affine=True, track_running_stats=True)\n",
       "      (bn2): BatchNorm2d(128, eps=1e-05, momentum=0.1, affine=True, track_running_stats=True)\n",
       "    )\n",
       "    (3): BasicBlock(\n",
       "      (conv1): Conv2d(128, 128, kernel_size=(3, 3), stride=(1, 1), padding=(1, 1), bias=False)\n",
       "      (conv2): Conv2d(128, 128, kernel_size=(3, 3), stride=(1, 1), padding=(1, 1), bias=False)\n",
       "      (relu): ReLU(inplace=True)\n",
       "      (bn1): BatchNorm2d(128, eps=1e-05, momentum=0.1, affine=True, track_running_stats=True)\n",
       "      (bn2): BatchNorm2d(128, eps=1e-05, momentum=0.1, affine=True, track_running_stats=True)\n",
       "    )\n",
       "    (4): BasicBlock(\n",
       "      (conv1): Conv2d(128, 128, kernel_size=(3, 3), stride=(1, 1), padding=(1, 1), bias=False)\n",
       "      (conv2): Conv2d(128, 128, kernel_size=(3, 3), stride=(1, 1), padding=(1, 1), bias=False)\n",
       "      (relu): ReLU(inplace=True)\n",
       "      (bn1): BatchNorm2d(128, eps=1e-05, momentum=0.1, affine=True, track_running_stats=True)\n",
       "      (bn2): BatchNorm2d(128, eps=1e-05, momentum=0.1, affine=True, track_running_stats=True)\n",
       "    )\n",
       "    (5): BasicBlock(\n",
       "      (conv1): Conv2d(128, 128, kernel_size=(3, 3), stride=(1, 1), padding=(1, 1), bias=False)\n",
       "      (conv2): Conv2d(128, 128, kernel_size=(3, 3), stride=(1, 1), padding=(1, 1), bias=False)\n",
       "      (relu): ReLU(inplace=True)\n",
       "      (bn1): BatchNorm2d(128, eps=1e-05, momentum=0.1, affine=True, track_running_stats=True)\n",
       "      (bn2): BatchNorm2d(128, eps=1e-05, momentum=0.1, affine=True, track_running_stats=True)\n",
       "    )\n",
       "    (6): BasicBlock(\n",
       "      (conv1): Conv2d(128, 128, kernel_size=(3, 3), stride=(1, 1), padding=(1, 1), bias=False)\n",
       "      (conv2): Conv2d(128, 128, kernel_size=(3, 3), stride=(1, 1), padding=(1, 1), bias=False)\n",
       "      (relu): ReLU(inplace=True)\n",
       "      (bn1): BatchNorm2d(128, eps=1e-05, momentum=0.1, affine=True, track_running_stats=True)\n",
       "      (bn2): BatchNorm2d(128, eps=1e-05, momentum=0.1, affine=True, track_running_stats=True)\n",
       "    )\n",
       "    (7): BasicBlock(\n",
       "      (conv1): Conv2d(128, 128, kernel_size=(3, 3), stride=(1, 1), padding=(1, 1), bias=False)\n",
       "      (conv2): Conv2d(128, 128, kernel_size=(3, 3), stride=(1, 1), padding=(1, 1), bias=False)\n",
       "      (relu): ReLU(inplace=True)\n",
       "      (bn1): BatchNorm2d(128, eps=1e-05, momentum=0.1, affine=True, track_running_stats=True)\n",
       "      (bn2): BatchNorm2d(128, eps=1e-05, momentum=0.1, affine=True, track_running_stats=True)\n",
       "    )\n",
       "  )\n",
       "  (layer3): Sequential(\n",
       "    (0): BasicBlock(\n",
       "      (conv1): Conv2d(128, 256, kernel_size=(3, 3), stride=(2, 2), padding=(1, 1), bias=False)\n",
       "      (conv2): Conv2d(256, 256, kernel_size=(3, 3), stride=(1, 1), padding=(1, 1), bias=False)\n",
       "      (relu): ReLU(inplace=True)\n",
       "      (bn1): BatchNorm2d(256, eps=1e-05, momentum=0.1, affine=True, track_running_stats=True)\n",
       "      (bn2): BatchNorm2d(256, eps=1e-05, momentum=0.1, affine=True, track_running_stats=True)\n",
       "      (downsample): Sequential(\n",
       "        (0): Conv2d(128, 256, kernel_size=(1, 1), stride=(2, 2), bias=False)\n",
       "        (1): BatchNorm2d(256, eps=1e-05, momentum=0.1, affine=True, track_running_stats=True)\n",
       "      )\n",
       "    )\n",
       "    (1): BasicBlock(\n",
       "      (conv1): Conv2d(256, 256, kernel_size=(3, 3), stride=(1, 1), padding=(1, 1), bias=False)\n",
       "      (conv2): Conv2d(256, 256, kernel_size=(3, 3), stride=(1, 1), padding=(1, 1), bias=False)\n",
       "      (relu): ReLU(inplace=True)\n",
       "      (bn1): BatchNorm2d(256, eps=1e-05, momentum=0.1, affine=True, track_running_stats=True)\n",
       "      (bn2): BatchNorm2d(256, eps=1e-05, momentum=0.1, affine=True, track_running_stats=True)\n",
       "    )\n",
       "    (2): BasicBlock(\n",
       "      (conv1): Conv2d(256, 256, kernel_size=(3, 3), stride=(1, 1), padding=(1, 1), bias=False)\n",
       "      (conv2): Conv2d(256, 256, kernel_size=(3, 3), stride=(1, 1), padding=(1, 1), bias=False)\n",
       "      (relu): ReLU(inplace=True)\n",
       "      (bn1): BatchNorm2d(256, eps=1e-05, momentum=0.1, affine=True, track_running_stats=True)\n",
       "      (bn2): BatchNorm2d(256, eps=1e-05, momentum=0.1, affine=True, track_running_stats=True)\n",
       "    )\n",
       "    (3): BasicBlock(\n",
       "      (conv1): Conv2d(256, 256, kernel_size=(3, 3), stride=(1, 1), padding=(1, 1), bias=False)\n",
       "      (conv2): Conv2d(256, 256, kernel_size=(3, 3), stride=(1, 1), padding=(1, 1), bias=False)\n",
       "      (relu): ReLU(inplace=True)\n",
       "      (bn1): BatchNorm2d(256, eps=1e-05, momentum=0.1, affine=True, track_running_stats=True)\n",
       "      (bn2): BatchNorm2d(256, eps=1e-05, momentum=0.1, affine=True, track_running_stats=True)\n",
       "    )\n",
       "    (4): BasicBlock(\n",
       "      (conv1): Conv2d(256, 256, kernel_size=(3, 3), stride=(1, 1), padding=(1, 1), bias=False)\n",
       "      (conv2): Conv2d(256, 256, kernel_size=(3, 3), stride=(1, 1), padding=(1, 1), bias=False)\n",
       "      (relu): ReLU(inplace=True)\n",
       "      (bn1): BatchNorm2d(256, eps=1e-05, momentum=0.1, affine=True, track_running_stats=True)\n",
       "      (bn2): BatchNorm2d(256, eps=1e-05, momentum=0.1, affine=True, track_running_stats=True)\n",
       "    )\n",
       "    (5): BasicBlock(\n",
       "      (conv1): Conv2d(256, 256, kernel_size=(3, 3), stride=(1, 1), padding=(1, 1), bias=False)\n",
       "      (conv2): Conv2d(256, 256, kernel_size=(3, 3), stride=(1, 1), padding=(1, 1), bias=False)\n",
       "      (relu): ReLU(inplace=True)\n",
       "      (bn1): BatchNorm2d(256, eps=1e-05, momentum=0.1, affine=True, track_running_stats=True)\n",
       "      (bn2): BatchNorm2d(256, eps=1e-05, momentum=0.1, affine=True, track_running_stats=True)\n",
       "    )\n",
       "    (6): BasicBlock(\n",
       "      (conv1): Conv2d(256, 256, kernel_size=(3, 3), stride=(1, 1), padding=(1, 1), bias=False)\n",
       "      (conv2): Conv2d(256, 256, kernel_size=(3, 3), stride=(1, 1), padding=(1, 1), bias=False)\n",
       "      (relu): ReLU(inplace=True)\n",
       "      (bn1): BatchNorm2d(256, eps=1e-05, momentum=0.1, affine=True, track_running_stats=True)\n",
       "      (bn2): BatchNorm2d(256, eps=1e-05, momentum=0.1, affine=True, track_running_stats=True)\n",
       "    )\n",
       "    (7): BasicBlock(\n",
       "      (conv1): Conv2d(256, 256, kernel_size=(3, 3), stride=(1, 1), padding=(1, 1), bias=False)\n",
       "      (conv2): Conv2d(256, 256, kernel_size=(3, 3), stride=(1, 1), padding=(1, 1), bias=False)\n",
       "      (relu): ReLU(inplace=True)\n",
       "      (bn1): BatchNorm2d(256, eps=1e-05, momentum=0.1, affine=True, track_running_stats=True)\n",
       "      (bn2): BatchNorm2d(256, eps=1e-05, momentum=0.1, affine=True, track_running_stats=True)\n",
       "    )\n",
       "  )\n",
       "  (avgpool): AvgPool2d(kernel_size=8, stride=8, padding=0)\n",
       "  (fc): Linear(in_features=256, out_features=10, bias=True)\n",
       ")"
      ]
     },
     "execution_count": 17,
     "metadata": {},
     "output_type": "execute_result"
    }
   ],
   "source": [
    "device = 'cuda:0'\n",
    "\n",
    "# teacher = ResNet(opt = 'none', init = 'kaiming', num_classes = 10, batchnorm = True, width = 4, depth = 50, bottleneck= True)\n",
    "teacher = ResNet(opt = 'none', init = 'kaiming', num_classes = 10, batchnorm = True, width = 4, depth = 50, bottleneck= False)\n",
    "\n",
    "# filename = './checkpoint/cifar10/res-50-4-t-bn/sgd/step/kaiming_both_none_0.1_0.1_0.1_0.1_seed1_False.pt'\n",
    "filename = './checkpoint/cifar10/res-50-4-f-bn/sgd/step/ort_both_none_0.01_0.01_0.01_0.01_seed3.pt'\n",
    "# filename = './checkpoint/cifar10/res-50-4-f-bn/sgd/step/ort_both_norm_0.1_0.1_0.1_0.1_seed1_True.pt'\n",
    "# filename = './checkpoint/cifar10/res-50-4-f-bn/sgd/step/ort_both_ortho_0.01_0.01_0.01_0.01_seed4_True.pt' # ortho\n",
    "# filename = './checkpoint/cifar10/res-50-4-f-bn/sgd/step/xavier_both_ort_0.1_0.1_0.1_0.1_seed1_True.pt' #norm\n",
    "\n",
    "checkpoint = torch.load(filename, map_location=device)['best_wts']\n",
    "teacher.load_state_dict(checkpoint, strict=False)\n",
    "teacher.eval()"
   ]
  },
  {
   "cell_type": "code",
   "execution_count": 18,
   "metadata": {},
   "outputs": [],
   "source": [
    "teacher = teacher.to(device)\n",
    "representer = Represent(teacher)"
   ]
  },
  {
   "cell_type": "code",
   "execution_count": 19,
   "metadata": {},
   "outputs": [],
   "source": [
    "label_list, out_list, pred_list, score_list, logit_sum_list = get_statistics(dataloaders, device, representer, teacher, mode='train')\n",
    "# singular_dict, v_ortho_dict = get_singular_value_vector(label_list, out_list)\n",
    "v_ortho_dict = teacher.fc.weight\n",
    "out, sing_lbl = get_plane(v_ortho_dict,out_list, label_list, device)\n",
    "a, b = make_orthonormal_basis(out)\n",
    "x, y = projection(out, a, b)"
   ]
  },
  {
   "cell_type": "code",
   "execution_count": 20,
   "metadata": {},
   "outputs": [
    {
     "data": {
      "image/png": "[encoded data removed]",
      "text/plain": [
       "<Figure size 432x288 with 1 Axes>"
      ]
     },
     "metadata": {
      "needs_background": "light"
     },
     "output_type": "display_data"
    }
   ],
   "source": [
    "## VANILLA\n",
    "plt.plot(x[label_list[sing_lbl]==0],y[label_list[sing_lbl]==0],'.')\n",
    "plt.plot(x[label_list[sing_lbl]==3],y[label_list[sing_lbl]==3],'.')\n",
    "plt.plot(x[label_list[sing_lbl]==6],y[label_list[sing_lbl]==6],'.')\n",
    "plt.xlim(-40,40)\n",
    "plt.ylim(-40,40)\n",
    "plt.rcParams.update({'font.size': 18})\n",
    "plt.savefig('vanilla_visual_train.pdf')"
   ]
  },
  {
   "cell_type": "code",
   "execution_count": 21,
   "metadata": {},
   "outputs": [],
   "source": [
    "label_list, out_list, pred_list, score_list, logit_sum_list = get_statistics(dataloaders, device, representer, teacher, mode='test')\n",
    "# singular_dict, v_ortho_dict = get_singular_value_vector(label_list, out_list)\n",
    "v_ortho_dict = teacher.fc.weight\n",
    "out, sing_lbl = get_plane(v_ortho_dict,out_list, label_list, device)\n",
    "# a, b = make_orthonormal_basis(out)\n",
    "x, y = projection(out, a, b)"
   ]
  },
  {
   "cell_type": "code",
   "execution_count": 22,
   "metadata": {},
   "outputs": [
    {
     "name": "stdout",
     "output_type": "stream",
     "text": [
      "(223.52828111200142, 177637.01646143553)\n"
     ]
    },
    {
     "data": {
      "image/png": "[encoded data removed]",
      "text/plain": [
       "<Figure size 432x288 with 1 Axes>"
      ]
     },
     "metadata": {
      "needs_background": "light"
     },
     "output_type": "display_data"
    }
   ],
   "source": [
    "## VANILLA\n",
    "plt.plot(x[label_list[sing_lbl]==0],y[label_list[sing_lbl]==0],'.')\n",
    "plt.plot(x[label_list[sing_lbl]==3],y[label_list[sing_lbl]==3],'.')\n",
    "plt.plot(x[label_list[sing_lbl]==6],y[label_list[sing_lbl]==6],'.')\n",
    "plt.xlim(-40,40)\n",
    "plt.ylim(-40,40)\n",
    "plt.rcParams.update({'font.size': 18})\n",
    "plt.savefig('vanilla_visual_test.pdf')\n",
    "print(verify_cluster(x,y,label_list, sing_lbl))"
   ]
  },
  {
   "cell_type": "code",
   "execution_count": 23,
   "metadata": {},
   "outputs": [
    {
     "data": {
      "text/plain": [
       "65.36522383931252"
      ]
     },
     "execution_count": 23,
     "metadata": {},
     "output_type": "execute_result"
    }
   ],
   "source": [
    "196095.67151793756 / 1000 / 3 "
   ]
  },
  {
   "cell_type": "code",
   "execution_count": 51,
   "metadata": {},
   "outputs": [
    {
     "data": {
      "text/plain": [
       "5124.393516493725"
      ]
     },
     "execution_count": 51,
     "metadata": {},
     "output_type": "execute_result"
    }
   ],
   "source": [
    "223.52828111200142 / 65.36522383931252 /2 * 2997"
   ]
  },
  {
   "cell_type": "markdown",
   "metadata": {},
   "source": [
    "---"
   ]
  },
  {
   "cell_type": "markdown",
   "metadata": {},
   "source": [
    "# norm"
   ]
  },
  {
   "cell_type": "code",
   "execution_count": 26,
   "metadata": {},
   "outputs": [],
   "source": [
    "device = 'cuda:0'\n",
    "\n",
    "# teacher = ResNet(opt = 'none', init = 'kaiming', num_classes = 10, batchnorm = True, width = 4, depth = 50, bottleneck= True)\n",
    "teacher = ResNet(opt = 'none', init = 'kaiming', num_classes = 10, batchnorm = True, width = 4, depth = 50, bottleneck= False)\n",
    "\n",
    "# filename = './checkpoint/cifar10/res-50-4-t-bn/sgd/step/kaiming_both_none_0.1_0.1_0.1_0.1_seed1_False.pt'\n",
    "# filename = './checkpoint/cifar10/res-50-4-f-bn/sgd/step/ort_both_none_0.01_0.01_0.01_0.01_seed3.pt'\n",
    "filename = './checkpoint/cifar10/res-50-4-f-bn/sgd/step/ort_both_norm_0.1_0.1_0.1_0.1_seed1_True.pt'\n",
    "# filename = './checkpoint/cifar10/res-50-4-f-bn/sgd/step/xavier_both_srip_0.1_0.1_0.1_0.1_seed1.pt'\n",
    "\n",
    "# filename = './checkpoint/cifar10/res-50-4-f-bn/sgd/step/ort_both_ortho_0.01_0.01_0.01_0.01_seed4_True.pt' # ortho\n",
    "# filename = './checkpoint/cifar10/res-50-4-f-bn/sgd/step/xavier_both_ort_0.1_0.1_0.1_0.1_seed1_True.pt' #norm\n",
    "\n",
    "checkpoint = torch.load(filename, map_location=device)['best_wts']\n",
    "teacher.load_state_dict(checkpoint, strict=False)\n",
    "teacher.eval()\n",
    "teacher = teacher.to(device)\n",
    "representer = Represent(teacher)"
   ]
  },
  {
   "cell_type": "code",
   "execution_count": 27,
   "metadata": {},
   "outputs": [],
   "source": [
    "label_list, out_list, pred_list, score_list, logit_sum_list = get_statistics(dataloaders, device, representer, teacher, mode='train')\n",
    "# singular_dict, v_ortho_dict = get_singular_value_vector(label_list, out_list)\n",
    "v_ortho_dict = teacher.fc.weight\n",
    "out, sing_lbl = get_plane(v_ortho_dict,out_list, label_list, device)\n",
    "a, b = make_orthonormal_basis(out)\n",
    "x, y = projection(out, a, b)"
   ]
  },
  {
   "cell_type": "code",
   "execution_count": 28,
   "metadata": {},
   "outputs": [
    {
     "data": {
      "image/png": "[encoded data removed]",
      "text/plain": [
       "<Figure size 432x288 with 1 Axes>"
      ]
     },
     "metadata": {
      "needs_background": "light"
     },
     "output_type": "display_data"
    }
   ],
   "source": [
    "## orn\n",
    "plt.plot(x[label_list[sing_lbl]==0],y[label_list[sing_lbl]==0],'.')\n",
    "plt.plot(x[label_list[sing_lbl]==3],y[label_list[sing_lbl]==3],'.')\n",
    "plt.plot(x[label_list[sing_lbl]==6],y[label_list[sing_lbl]==6],'.')\n",
    "plt.xlim(-40,40)\n",
    "plt.ylim(-40,40)\n",
    "plt.rcParams.update({'font.size': 18})\n",
    "plt.savefig('norm_visual_train.pdf')\n",
    "# print(verify_cluster(x,y,label_list, sing_lbl))"
   ]
  },
  {
   "cell_type": "code",
   "execution_count": 29,
   "metadata": {},
   "outputs": [],
   "source": [
    "label_list, out_list, pred_list, score_list, logit_sum_list = get_statistics(dataloaders, device, representer, teacher, mode='test')\n",
    "# singular_dict, v_ortho_dict = get_singular_value_vector(label_list, out_list)\n",
    "v_ortho_dict = teacher.fc.weight\n",
    "out, sing_lbl = get_plane(v_ortho_dict,out_list, label_list, device)\n",
    "# a, b = make_orthonormal_basis(out)\n",
    "x, y = projection(out, a, b)"
   ]
  },
  {
   "cell_type": "code",
   "execution_count": 30,
   "metadata": {},
   "outputs": [
    {
     "name": "stdout",
     "output_type": "stream",
     "text": [
      "(159.5977688696812, 59464.16261313985)\n"
     ]
    },
    {
     "data": {
      "image/png": "[encoded data removed]",
      "text/plain": [
       "<Figure size 432x288 with 1 Axes>"
      ]
     },
     "metadata": {
      "needs_background": "light"
     },
     "output_type": "display_data"
    }
   ],
   "source": [
    "## orn\n",
    "plt.plot(x[label_list[sing_lbl]==0],y[label_list[sing_lbl]==0],'.')\n",
    "plt.plot(x[label_list[sing_lbl]==3],y[label_list[sing_lbl]==3],'.')\n",
    "plt.plot(x[label_list[sing_lbl]==6],y[label_list[sing_lbl]==6],'.')\n",
    "plt.xlim(-40,40)\n",
    "plt.ylim(-40,40)\n",
    "plt.rcParams.update({'font.size': 18})\n",
    "\n",
    "plt.savefig('norm_visual_test.pdf')\n",
    "print(verify_cluster(x,y,label_list, sing_lbl))"
   ]
  },
  {
   "cell_type": "code",
   "execution_count": 31,
   "metadata": {},
   "outputs": [
    {
     "data": {
      "text/plain": [
       "19.821387537713285"
      ]
     },
     "execution_count": 31,
     "metadata": {},
     "output_type": "execute_result"
    }
   ],
   "source": [
    "59464.16261313985 / 3000"
   ]
  },
  {
   "cell_type": "code",
   "execution_count": 52,
   "metadata": {},
   "outputs": [
    {
     "data": {
      "text/plain": [
       "12065.616304417805"
      ]
     },
     "execution_count": 52,
     "metadata": {},
     "output_type": "execute_result"
    }
   ],
   "source": [
    "159.5977688696812 / 19.821387537713285 /2 * 2997"
   ]
  },
  {
   "cell_type": "markdown",
   "metadata": {},
   "source": [
    "---"
   ]
  },
  {
   "cell_type": "markdown",
   "metadata": {},
   "source": [
    "# SRIP"
   ]
  },
  {
   "cell_type": "code",
   "execution_count": 33,
   "metadata": {},
   "outputs": [],
   "source": [
    "device = 'cuda:0'\n",
    "\n",
    "# teacher = ResNet(opt = 'none', init = 'kaiming', num_classes = 10, batchnorm = True, width = 4, depth = 50, bottleneck= True)\n",
    "teacher = ResNet(opt = 'none', init = 'kaiming', num_classes = 10, batchnorm = True, width = 4, depth = 50, bottleneck= False)\n",
    "\n",
    "# filename = './checkpoint/cifar10/res-50-4-t-bn/sgd/step/kaiming_both_none_0.1_0.1_0.1_0.1_seed1_False.pt'\n",
    "# filename = './checkpoint/cifar10/res-50-4-f-bn/sgd/step/ort_both_none_0.01_0.01_0.01_0.01_seed3.pt'\n",
    "# filename = './checkpoint/cifar10/res-50-4-f-bn/sgd/step/ort_both_norm_0.1_0.1_0.1_0.1_seed1_True.pt'\n",
    "filename = './checkpoint/cifar10/res-50-4-f-bn/sgd/step/kaiming_both_srip_0.1_0.1_0.1_0.1_seed1.pt' # ortho\n",
    "# filename = './checkpoint/cifar10/res-50-4-f-bn/sgd/step/xavier_both_ort_0.1_0.1_0.1_0.1_seed1_True.pt' #norm\n",
    "\n",
    "checkpoint = torch.load(filename, map_location=device)['best_wts']\n",
    "teacher.load_state_dict(checkpoint, strict=False)\n",
    "teacher.eval()\n",
    "teacher = teacher.to(device)\n",
    "representer = Represent(teacher)"
   ]
  },
  {
   "cell_type": "code",
   "execution_count": 34,
   "metadata": {},
   "outputs": [],
   "source": [
    "label_list, out_list, pred_list, score_list, logit_sum_list = get_statistics(dataloaders, device, representer, teacher, mode='train')\n",
    "# singular_dict, v_ortho_dict = get_singular_value_vector(label_list, out_list)\n",
    "v_ortho_dict = teacher.fc.weight\n",
    "out, sing_lbl = get_plane(v_ortho_dict,out_list, label_list, device)\n",
    "a, b = make_orthonormal_basis(out)\n",
    "x, y = projection(out, a, b)"
   ]
  },
  {
   "cell_type": "code",
   "execution_count": 35,
   "metadata": {},
   "outputs": [
    {
     "data": {
      "image/png": "[encoded data removed]",
      "text/plain": [
       "<Figure size 432x288 with 1 Axes>"
      ]
     },
     "metadata": {
      "needs_background": "light"
     },
     "output_type": "display_data"
    }
   ],
   "source": [
    "## ortho\n",
    "plt.plot(x[label_list[sing_lbl]==0],y[label_list[sing_lbl]==0],'.')\n",
    "plt.plot(x[label_list[sing_lbl]==3],y[label_list[sing_lbl]==3],'.')\n",
    "plt.plot(x[label_list[sing_lbl]==6],y[label_list[sing_lbl]==6],'.')\n",
    "plt.xlim(-40,40)\n",
    "plt.ylim(-40,40)\n",
    "plt.rcParams.update({'font.size': 18})\n",
    "\n",
    "plt.savefig('srip_visual_train.pdf')\n",
    "# print(verify_cluster(x,y,label_list, sing_lbl))"
   ]
  },
  {
   "cell_type": "code",
   "execution_count": 36,
   "metadata": {},
   "outputs": [],
   "source": [
    "label_list, out_list, pred_list, score_list, logit_sum_list = get_statistics(dataloaders, device, representer, teacher, mode='test')\n",
    "# singular_dict, v_ortho_dict = get_singular_value_vector(label_list, out_list)\n",
    "v_ortho_dict = teacher.fc.weight\n",
    "out, sing_lbl = get_plane(v_ortho_dict,out_list, label_list, device)\n",
    "# a, b = make_orthonormal_basis(out)\n",
    "x, y = projection(out, a, b)"
   ]
  },
  {
   "cell_type": "code",
   "execution_count": 37,
   "metadata": {},
   "outputs": [
    {
     "name": "stdout",
     "output_type": "stream",
     "text": [
      "(151.23108302328515, 63581.0422315414)\n"
     ]
    },
    {
     "data": {
      "image/png": "[encoded data removed]",
      "text/plain": [
       "<Figure size 432x288 with 1 Axes>"
      ]
     },
     "metadata": {
      "needs_background": "light"
     },
     "output_type": "display_data"
    }
   ],
   "source": [
    "## ortho\n",
    "plt.plot(x[label_list[sing_lbl]==0],y[label_list[sing_lbl]==0],'.')\n",
    "plt.plot(x[label_list[sing_lbl]==3],y[label_list[sing_lbl]==3],'.')\n",
    "plt.plot(x[label_list[sing_lbl]==6],y[label_list[sing_lbl]==6],'.')\n",
    "plt.xlim(-40,40)\n",
    "plt.ylim(-40,40)\n",
    "plt.savefig('srip_visual_test.pdf')\n",
    "print(verify_cluster(x,y,label_list, sing_lbl))"
   ]
  },
  {
   "cell_type": "code",
   "execution_count": 38,
   "metadata": {},
   "outputs": [
    {
     "data": {
      "text/plain": [
       "21.193680743847136"
      ]
     },
     "execution_count": 38,
     "metadata": {},
     "output_type": "execute_result"
    }
   ],
   "source": [
    "63581.0422315414 / 3000"
   ]
  },
  {
   "cell_type": "code",
   "execution_count": 53,
   "metadata": {},
   "outputs": [
    {
     "data": {
      "text/plain": [
       "10692.799455148166"
      ]
     },
     "execution_count": 53,
     "metadata": {},
     "output_type": "execute_result"
    }
   ],
   "source": [
    "151.23108302328515 / 21.193680743847136/2 * 2997\n"
   ]
  },
  {
   "cell_type": "markdown",
   "metadata": {},
   "source": [
    "---"
   ]
  },
  {
   "cell_type": "markdown",
   "metadata": {},
   "source": [
    "# srip +"
   ]
  },
  {
   "cell_type": "code",
   "execution_count": 47,
   "metadata": {},
   "outputs": [],
   "source": [
    "device = 'cuda:0'\n",
    "\n",
    "# teacher = ResNet(opt = 'none', init = 'kaiming', num_classes = 10, batchnorm = True, width = 4, depth = 50, bottleneck= True)\n",
    "teacher = ResNet(opt = 'none', init = 'kaiming', num_classes = 10, batchnorm = True, width = 4, depth = 50, bottleneck= False)\n",
    "\n",
    "# filename = './checkpoint/cifar10/res-50-4-t-bn/sgd/step/kaiming_both_none_0.1_0.1_0.1_0.1_seed1_False.pt'\n",
    "# filename = './checkpoint/cifar10/res-50-4-f-bn/sgd/step/ort_both_none_0.01_0.01_0.01_0.01_seed3.pt'\n",
    "# filename = './checkpoint/cifar10/res-50-4-f-bn/sgd/step/ort_both_norm_0.1_0.1_0.1_0.1_seed1_True.pt'\n",
    "# filename = './checkpoint/cifar10/res-50-4-f-bn/sgd/step/ort_both_ortho_0.01_0.01_0.01_0.01_seed4_True.pt' # ortho\n",
    "filename = './checkpoint/cifar10/res-50-4-f-bn/sgd/step/xavier_both_srip_0.1_0.1_0.1_0.1_seed1.pt' #norm\n",
    "\n",
    "checkpoint = torch.load(filename, map_location=device)['best_wts']\n",
    "teacher.load_state_dict(checkpoint, strict=False)\n",
    "teacher.eval()\n",
    "teacher = teacher.to(device)\n",
    "representer = Represent(teacher)"
   ]
  },
  {
   "cell_type": "code",
   "execution_count": 41,
   "metadata": {},
   "outputs": [],
   "source": [
    "label_list, out_list, pred_list, score_list, logit_sum_list = get_statistics(dataloaders, device, representer, teacher, mode='train')\n",
    "# singular_dict, v_ortho_dict = get_singular_value_vector(label_list, out_list)\n",
    "v_ortho_dict = teacher.fc.weight\n",
    "out, sing_lbl = get_plane(v_ortho_dict,out_list, label_list, device)\n",
    "a, b = make_orthonormal_basis(out)\n",
    "x, y = projection(out, a, b)"
   ]
  },
  {
   "cell_type": "code",
   "execution_count": 42,
   "metadata": {},
   "outputs": [
    {
     "data": {
      "image/png": "[encoded data removed]",
      "text/plain": [
       "<Figure size 432x288 with 1 Axes>"
      ]
     },
     "metadata": {
      "needs_background": "light"
     },
     "output_type": "display_data"
    }
   ],
   "source": [
    "## norm\n",
    "plt.plot(x[label_list[sing_lbl]==0],y[label_list[sing_lbl]==0],'.')\n",
    "plt.plot(x[label_list[sing_lbl]==3],y[label_list[sing_lbl]==3],'.')\n",
    "plt.plot(x[label_list[sing_lbl]==6],y[label_list[sing_lbl]==6],'.')\n",
    "plt.xlim(-40,40)\n",
    "plt.ylim(-40,40)\n",
    "plt.savefig('srip_p_visual_train.pdf')\n",
    "# print(verify_cluster(x,y,label_list, sing_lbl))"
   ]
  },
  {
   "cell_type": "code",
   "execution_count": 43,
   "metadata": {},
   "outputs": [],
   "source": [
    "label_list, out_list, pred_list, score_list, logit_sum_list = get_statistics(dataloaders, device, representer, teacher, mode='test')\n",
    "# singular_dict, v_ortho_dict = get_singular_value_vector(label_list, out_list)\n",
    "v_ortho_dict = teacher.fc.weight\n",
    "out, sing_lbl = get_plane(v_ortho_dict,out_list, label_list, device)\n",
    "# a, b = make_orthonormal_basis(out)\n",
    "x, y = projection(out, a, b)"
   ]
  },
  {
   "cell_type": "code",
   "execution_count": 44,
   "metadata": {},
   "outputs": [
    {
     "name": "stdout",
     "output_type": "stream",
     "text": [
      "(145.01338327096437, 60335.325587749496)\n"
     ]
    },
    {
     "data": {
      "image/png": "[encoded data removed]",
      "text/plain": [
       "<Figure size 432x288 with 1 Axes>"
      ]
     },
     "metadata": {
      "needs_background": "light"
     },
     "output_type": "display_data"
    }
   ],
   "source": [
    "## norm\n",
    "plt.plot(x[label_list[sing_lbl]==0],y[label_list[sing_lbl]==0],'.')\n",
    "plt.plot(x[label_list[sing_lbl]==3],y[label_list[sing_lbl]==3],'.')\n",
    "plt.plot(x[label_list[sing_lbl]==6],y[label_list[sing_lbl]==6],'.')\n",
    "plt.xlim(-40,40)\n",
    "plt.ylim(-40,40)\n",
    "plt.savefig('srip_p_visual_test.pdf')\n",
    "print(verify_cluster(x,y,label_list, sing_lbl))"
   ]
  },
  {
   "cell_type": "code",
   "execution_count": 45,
   "metadata": {},
   "outputs": [
    {
     "data": {
      "text/plain": [
       "20.111775195916497"
      ]
     },
     "execution_count": 45,
     "metadata": {},
     "output_type": "execute_result"
    }
   ],
   "source": [
    "60335.325587749496 / 3000 "
   ]
  },
  {
   "cell_type": "code",
   "execution_count": 54,
   "metadata": {},
   "outputs": [
    {
     "data": {
      "text/plain": [
       "10804.742630360213"
      ]
     },
     "execution_count": 54,
     "metadata": {},
     "output_type": "execute_result"
    }
   ],
   "source": [
    "145.01338327096437 / 20.111775195916497/2 * 2997\n"
   ]
  },
  {
   "cell_type": "code",
   "execution_count": 240,
   "metadata": {},
   "outputs": [],
   "source": [
    "vanilla_norm = np.linalg.norm(out_list, axis=1)"
   ]
  },
  {
   "cell_type": "code",
   "execution_count": 225,
   "metadata": {},
   "outputs": [],
   "source": [
    "orn_norm = np.linalg.norm(out_list, axis=1)"
   ]
  },
  {
   "cell_type": "code",
   "execution_count": 241,
   "metadata": {},
   "outputs": [
    {
     "data": {
      "text/plain": [
       "(array([2.200e+01, 3.350e+02, 2.222e+03, 3.797e+03, 2.482e+03, 8.630e+02,\n",
       "        2.230e+02, 4.500e+01, 9.000e+00, 2.000e+00]),\n",
       " array([ 9.162148, 10.817671, 12.473192, 14.128715, 15.784237, 17.439758,\n",
       "        19.095282, 20.750803, 22.406324, 24.061848, 25.71737 ],\n",
       "       dtype=float32),\n",
       " <a list of 10 Patch objects>)"
      ]
     },
     "execution_count": 241,
     "metadata": {},
     "output_type": "execute_result"
    },
    {
     "data": {
      "image/png": "[encoded data removed]",
      "text/plain": [
       "<Figure size 432x288 with 1 Axes>"
      ]
     },
     "metadata": {
      "needs_background": "light"
     },
     "output_type": "display_data"
    }
   ],
   "source": [
    "plt.hist(vanilla_norm)\n",
    "plt.hist(orn_norm)"
   ]
  },
  {
   "cell_type": "code",
   "execution_count": null,
   "metadata": {},
   "outputs": [],
   "source": []
  }
 ],
 "metadata": {
  "kernelspec": {
   "display_name": "Python 3",
   "language": "python",
   "name": "python3"
  },
  "language_info": {
   "codemirror_mode": {
    "name": "ipython",
    "version": 3
   },
   "file_extension": ".py",
   "mimetype": "text/x-python",
   "name": "python",
   "nbconvert_exporter": "python",
   "pygments_lexer": "ipython3",
   "version": "3.7.3"
  }
 },
 "nbformat": 4,
 "nbformat_minor": 4
}
