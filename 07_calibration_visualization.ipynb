{
 "cells": [
  {
   "cell_type": "code",
   "execution_count": 1,
   "metadata": {},
   "outputs": [],
   "source": [
    "import os\n",
    "import torch.nn as nn\n",
    "import torch\n",
    "import torch.nn.functional as F\n",
    "import numpy as np\n",
    "import pandas as pd\n",
    "import matplotlib\n",
    "import matplotlib.pyplot as plt\n",
    "from tqdm import tqdm\n",
    "import torchvision.transforms as transforms\n",
    "import torchvision\n",
    "\n",
    "from models import *"
   ]
  },
  {
   "cell_type": "markdown",
   "metadata": {},
   "source": [
    "---"
   ]
  },
  {
   "cell_type": "code",
   "execution_count": 3,
   "metadata": {},
   "outputs": [
    {
     "name": "stdout",
     "output_type": "stream",
     "text": [
      "Files already downloaded and verified\n",
      "Files already downloaded and verified\n"
     ]
    }
   ],
   "source": [
    "batch_size=100\n",
    "transform_test = torchvision.transforms.Compose([torchvision.transforms.ToTensor(), \n",
    "                                     torchvision.transforms.Normalize((0.4914, 0.4822, 0.4465), (0.247, 0.243, 0.261))])\n",
    "trainset = torchvision.datasets.CIFAR10(root='./data/CIFAR10', train=True, download=True, transform=transform_test)\n",
    "testset = torchvision.datasets.CIFAR10(root='./data/CIFAR10', train=False, download=True, transform=transform_test)\n",
    "train_loader = torch.utils.data.DataLoader(trainset, batch_size=batch_size, shuffle=False, num_workers=16)\n",
    "test_loader = torch.utils.data.DataLoader(testset, batch_size=batch_size, shuffle=False, num_workers=16)\n",
    "dataloaders = {}\n",
    "\n",
    "dataloaders['train'] = train_loader\n",
    "dataloaders['test'] = test_loader"
   ]
  },
  {
   "cell_type": "code",
   "execution_count": 2,
   "metadata": {},
   "outputs": [],
   "source": [
    "class Represent(nn.Module):\n",
    "    def __init__(self, base_model):\n",
    "        super(Represent, self).__init__()\n",
    "        self.conv1 = base_model.conv1\n",
    "        self.bn1 = base_model.bn1\n",
    "        self.layer1 = base_model.layer1\n",
    "        self.layer2 = base_model.layer2\n",
    "        self.layer3 = base_model.layer3\n",
    "        self.fc = base_model.fc\n",
    "        self.avgpool = base_model.avgpool\n",
    "        \n",
    "    def forward(self, x):\n",
    "        \n",
    "        out = self.conv1(x)\n",
    "        out = self.bn1(out)\n",
    "        out = self.layer1(out)\n",
    "        out = self.layer2(out)\n",
    "        out = self.layer3(out)\n",
    "        out = F.relu(out)\n",
    "        out = self.avgpool(out)\n",
    "        out = out.view(out.size(0), -1)\n",
    "        \n",
    "        return out"
   ]
  },
  {
   "cell_type": "markdown",
   "metadata": {},
   "source": [
    "---"
   ]
  },
  {
   "cell_type": "code",
   "execution_count": 4,
   "metadata": {},
   "outputs": [],
   "source": [
    "def get_statistics(dataloaders, device, representer, model, mode = 'train'):\n",
    "    label_list = np.empty((0,))\n",
    "    logit_sum_list = np.empty((0,))\n",
    "\n",
    "\n",
    "    for idx, data in enumerate(dataloaders[mode]):\n",
    "        image = data[0].to(device)\n",
    "        label = data[1].long().to(device)\n",
    "\n",
    "        output = representer(image)\n",
    "        pred = model(image)\n",
    "        \n",
    "        logit_sum = torch.sum(pred, dim=1)\n",
    "        pred = F.softmax(pred, dim=1)\n",
    "        score, prediction = torch.max(pred, dim=1)\n",
    "        \n",
    "        label_list = np.concatenate((label_list, label.cpu()))\n",
    "        logit_sum_list = np.concatenate((logit_sum_list, logit_sum.detach().cpu()))\n",
    "\n",
    "        if idx ==0:\n",
    "            out_list  = output.detach().cpu()\n",
    "            pred_list = prediction.detach().cpu()\n",
    "            score_list = score.detach().cpu()\n",
    "        else:\n",
    "            out_list  = np.concatenate((out_list, output.detach().cpu()), axis=0)\n",
    "            pred_list = np.concatenate((pred_list, prediction.detach().cpu()), axis=0)\n",
    "            score_list = np.concatenate((score_list, score.detach().cpu()), axis=0)\n",
    "            \n",
    "    return label_list, out_list, pred_list, score_list, logit_sum_list"
   ]
  },
  {
   "cell_type": "code",
   "execution_count": 5,
   "metadata": {},
   "outputs": [],
   "source": [
    "def compute_reliability_diagram(label_list, pred_list, score_list):\n",
    "    acc_value = np.zeros(10)\n",
    "    conf_value = np.zeros(10)\n",
    "    counts = np.zeros(10)\n",
    "\n",
    "    for idx in range(label_list.shape[0]):\n",
    "        num = int(round(round(score_list[idx]-0.05, 1) * 10))\n",
    "        if num ==10:\n",
    "            num = 9\n",
    "        if (label_list[idx]==pred_list[idx]):\n",
    "            acc_value[num] += 1 \n",
    "        conf_value[num] += score_list[idx]\n",
    "        counts[num] += 1\n",
    "\n",
    "    x_axis = np.linspace(0.0,0.9,10)\n",
    "    for i in range(10):\n",
    "        if counts[i] ==0:\n",
    "            counts[i] = 1.\n",
    "    print(acc_value)\n",
    "    print(conf_value)\n",
    "    \n",
    "    \n",
    "    acc_list = [acc_value[i] / counts[i] for i in range(10)]\n",
    "    conf_list = [conf_value[i] / counts[i] for i in range(10)]\n",
    "    \n",
    "    return x_axis, conf_list, acc_list, counts"
   ]
  },
  {
   "cell_type": "code",
   "execution_count": 6,
   "metadata": {
    "collapsed": true,
    "jupyter": {
     "outputs_hidden": true
    }
   },
   "outputs": [
    {
     "data": {
      "text/plain": [
       "ResNet(\n",
       "  (conv1): Conv2d(3, 16, kernel_size=(3, 3), stride=(1, 1), padding=(1, 1), bias=False)\n",
       "  (bn1): BatchNorm2d(16, eps=1e-05, momentum=0.1, affine=True, track_running_stats=True)\n",
       "  (relu): ReLU(inplace=True)\n",
       "  (layer1): Sequential(\n",
       "    (0): Bottleneck(\n",
       "      (conv1): Conv2d(16, 16, kernel_size=(1, 1), stride=(1, 1), bias=False)\n",
       "      (conv2): Conv2d(16, 16, kernel_size=(3, 3), stride=(1, 1), padding=(1, 1), bias=False)\n",
       "      (conv3): Conv2d(16, 64, kernel_size=(1, 1), stride=(1, 1), bias=False)\n",
       "      (relu): ReLU(inplace=True)\n",
       "      (bn1): BatchNorm2d(16, eps=1e-05, momentum=0.1, affine=True, track_running_stats=True)\n",
       "      (bn2): BatchNorm2d(16, eps=1e-05, momentum=0.1, affine=True, track_running_stats=True)\n",
       "      (bn3): BatchNorm2d(64, eps=1e-05, momentum=0.1, affine=True, track_running_stats=True)\n",
       "      (downsample): Sequential(\n",
       "        (0): Conv2d(16, 64, kernel_size=(1, 1), stride=(1, 1), bias=False)\n",
       "        (1): BatchNorm2d(64, eps=1e-05, momentum=0.1, affine=True, track_running_stats=True)\n",
       "      )\n",
       "    )\n",
       "    (1): Bottleneck(\n",
       "      (conv1): Conv2d(64, 16, kernel_size=(1, 1), stride=(1, 1), bias=False)\n",
       "      (conv2): Conv2d(16, 16, kernel_size=(3, 3), stride=(1, 1), padding=(1, 1), bias=False)\n",
       "      (conv3): Conv2d(16, 64, kernel_size=(1, 1), stride=(1, 1), bias=False)\n",
       "      (relu): ReLU(inplace=True)\n",
       "      (bn1): BatchNorm2d(16, eps=1e-05, momentum=0.1, affine=True, track_running_stats=True)\n",
       "      (bn2): BatchNorm2d(16, eps=1e-05, momentum=0.1, affine=True, track_running_stats=True)\n",
       "      (bn3): BatchNorm2d(64, eps=1e-05, momentum=0.1, affine=True, track_running_stats=True)\n",
       "    )\n",
       "    (2): Bottleneck(\n",
       "      (conv1): Conv2d(64, 16, kernel_size=(1, 1), stride=(1, 1), bias=False)\n",
       "      (conv2): Conv2d(16, 16, kernel_size=(3, 3), stride=(1, 1), padding=(1, 1), bias=False)\n",
       "      (conv3): Conv2d(16, 64, kernel_size=(1, 1), stride=(1, 1), bias=False)\n",
       "      (relu): ReLU(inplace=True)\n",
       "      (bn1): BatchNorm2d(16, eps=1e-05, momentum=0.1, affine=True, track_running_stats=True)\n",
       "      (bn2): BatchNorm2d(16, eps=1e-05, momentum=0.1, affine=True, track_running_stats=True)\n",
       "      (bn3): BatchNorm2d(64, eps=1e-05, momentum=0.1, affine=True, track_running_stats=True)\n",
       "    )\n",
       "    (3): Bottleneck(\n",
       "      (conv1): Conv2d(64, 16, kernel_size=(1, 1), stride=(1, 1), bias=False)\n",
       "      (conv2): Conv2d(16, 16, kernel_size=(3, 3), stride=(1, 1), padding=(1, 1), bias=False)\n",
       "      (conv3): Conv2d(16, 64, kernel_size=(1, 1), stride=(1, 1), bias=False)\n",
       "      (relu): ReLU(inplace=True)\n",
       "      (bn1): BatchNorm2d(16, eps=1e-05, momentum=0.1, affine=True, track_running_stats=True)\n",
       "      (bn2): BatchNorm2d(16, eps=1e-05, momentum=0.1, affine=True, track_running_stats=True)\n",
       "      (bn3): BatchNorm2d(64, eps=1e-05, momentum=0.1, affine=True, track_running_stats=True)\n",
       "    )\n",
       "    (4): Bottleneck(\n",
       "      (conv1): Conv2d(64, 16, kernel_size=(1, 1), stride=(1, 1), bias=False)\n",
       "      (conv2): Conv2d(16, 16, kernel_size=(3, 3), stride=(1, 1), padding=(1, 1), bias=False)\n",
       "      (conv3): Conv2d(16, 64, kernel_size=(1, 1), stride=(1, 1), bias=False)\n",
       "      (relu): ReLU(inplace=True)\n",
       "      (bn1): BatchNorm2d(16, eps=1e-05, momentum=0.1, affine=True, track_running_stats=True)\n",
       "      (bn2): BatchNorm2d(16, eps=1e-05, momentum=0.1, affine=True, track_running_stats=True)\n",
       "      (bn3): BatchNorm2d(64, eps=1e-05, momentum=0.1, affine=True, track_running_stats=True)\n",
       "    )\n",
       "    (5): Bottleneck(\n",
       "      (conv1): Conv2d(64, 16, kernel_size=(1, 1), stride=(1, 1), bias=False)\n",
       "      (conv2): Conv2d(16, 16, kernel_size=(3, 3), stride=(1, 1), padding=(1, 1), bias=False)\n",
       "      (conv3): Conv2d(16, 64, kernel_size=(1, 1), stride=(1, 1), bias=False)\n",
       "      (relu): ReLU(inplace=True)\n",
       "      (bn1): BatchNorm2d(16, eps=1e-05, momentum=0.1, affine=True, track_running_stats=True)\n",
       "      (bn2): BatchNorm2d(16, eps=1e-05, momentum=0.1, affine=True, track_running_stats=True)\n",
       "      (bn3): BatchNorm2d(64, eps=1e-05, momentum=0.1, affine=True, track_running_stats=True)\n",
       "    )\n",
       "  )\n",
       "  (layer2): Sequential(\n",
       "    (0): Bottleneck(\n",
       "      (conv1): Conv2d(64, 32, kernel_size=(1, 1), stride=(1, 1), bias=False)\n",
       "      (conv2): Conv2d(32, 32, kernel_size=(3, 3), stride=(2, 2), padding=(1, 1), bias=False)\n",
       "      (conv3): Conv2d(32, 128, kernel_size=(1, 1), stride=(1, 1), bias=False)\n",
       "      (relu): ReLU(inplace=True)\n",
       "      (bn1): BatchNorm2d(32, eps=1e-05, momentum=0.1, affine=True, track_running_stats=True)\n",
       "      (bn2): BatchNorm2d(32, eps=1e-05, momentum=0.1, affine=True, track_running_stats=True)\n",
       "      (bn3): BatchNorm2d(128, eps=1e-05, momentum=0.1, affine=True, track_running_stats=True)\n",
       "      (downsample): Sequential(\n",
       "        (0): Conv2d(64, 128, kernel_size=(1, 1), stride=(2, 2), bias=False)\n",
       "        (1): BatchNorm2d(128, eps=1e-05, momentum=0.1, affine=True, track_running_stats=True)\n",
       "      )\n",
       "    )\n",
       "    (1): Bottleneck(\n",
       "      (conv1): Conv2d(128, 32, kernel_size=(1, 1), stride=(1, 1), bias=False)\n",
       "      (conv2): Conv2d(32, 32, kernel_size=(3, 3), stride=(1, 1), padding=(1, 1), bias=False)\n",
       "      (conv3): Conv2d(32, 128, kernel_size=(1, 1), stride=(1, 1), bias=False)\n",
       "      (relu): ReLU(inplace=True)\n",
       "      (bn1): BatchNorm2d(32, eps=1e-05, momentum=0.1, affine=True, track_running_stats=True)\n",
       "      (bn2): BatchNorm2d(32, eps=1e-05, momentum=0.1, affine=True, track_running_stats=True)\n",
       "      (bn3): BatchNorm2d(128, eps=1e-05, momentum=0.1, affine=True, track_running_stats=True)\n",
       "    )\n",
       "    (2): Bottleneck(\n",
       "      (conv1): Conv2d(128, 32, kernel_size=(1, 1), stride=(1, 1), bias=False)\n",
       "      (conv2): Conv2d(32, 32, kernel_size=(3, 3), stride=(1, 1), padding=(1, 1), bias=False)\n",
       "      (conv3): Conv2d(32, 128, kernel_size=(1, 1), stride=(1, 1), bias=False)\n",
       "      (relu): ReLU(inplace=True)\n",
       "      (bn1): BatchNorm2d(32, eps=1e-05, momentum=0.1, affine=True, track_running_stats=True)\n",
       "      (bn2): BatchNorm2d(32, eps=1e-05, momentum=0.1, affine=True, track_running_stats=True)\n",
       "      (bn3): BatchNorm2d(128, eps=1e-05, momentum=0.1, affine=True, track_running_stats=True)\n",
       "    )\n",
       "    (3): Bottleneck(\n",
       "      (conv1): Conv2d(128, 32, kernel_size=(1, 1), stride=(1, 1), bias=False)\n",
       "      (conv2): Conv2d(32, 32, kernel_size=(3, 3), stride=(1, 1), padding=(1, 1), bias=False)\n",
       "      (conv3): Conv2d(32, 128, kernel_size=(1, 1), stride=(1, 1), bias=False)\n",
       "      (relu): ReLU(inplace=True)\n",
       "      (bn1): BatchNorm2d(32, eps=1e-05, momentum=0.1, affine=True, track_running_stats=True)\n",
       "      (bn2): BatchNorm2d(32, eps=1e-05, momentum=0.1, affine=True, track_running_stats=True)\n",
       "      (bn3): BatchNorm2d(128, eps=1e-05, momentum=0.1, affine=True, track_running_stats=True)\n",
       "    )\n",
       "    (4): Bottleneck(\n",
       "      (conv1): Conv2d(128, 32, kernel_size=(1, 1), stride=(1, 1), bias=False)\n",
       "      (conv2): Conv2d(32, 32, kernel_size=(3, 3), stride=(1, 1), padding=(1, 1), bias=False)\n",
       "      (conv3): Conv2d(32, 128, kernel_size=(1, 1), stride=(1, 1), bias=False)\n",
       "      (relu): ReLU(inplace=True)\n",
       "      (bn1): BatchNorm2d(32, eps=1e-05, momentum=0.1, affine=True, track_running_stats=True)\n",
       "      (bn2): BatchNorm2d(32, eps=1e-05, momentum=0.1, affine=True, track_running_stats=True)\n",
       "      (bn3): BatchNorm2d(128, eps=1e-05, momentum=0.1, affine=True, track_running_stats=True)\n",
       "    )\n",
       "    (5): Bottleneck(\n",
       "      (conv1): Conv2d(128, 32, kernel_size=(1, 1), stride=(1, 1), bias=False)\n",
       "      (conv2): Conv2d(32, 32, kernel_size=(3, 3), stride=(1, 1), padding=(1, 1), bias=False)\n",
       "      (conv3): Conv2d(32, 128, kernel_size=(1, 1), stride=(1, 1), bias=False)\n",
       "      (relu): ReLU(inplace=True)\n",
       "      (bn1): BatchNorm2d(32, eps=1e-05, momentum=0.1, affine=True, track_running_stats=True)\n",
       "      (bn2): BatchNorm2d(32, eps=1e-05, momentum=0.1, affine=True, track_running_stats=True)\n",
       "      (bn3): BatchNorm2d(128, eps=1e-05, momentum=0.1, affine=True, track_running_stats=True)\n",
       "    )\n",
       "  )\n",
       "  (layer3): Sequential(\n",
       "    (0): Bottleneck(\n",
       "      (conv1): Conv2d(128, 64, kernel_size=(1, 1), stride=(1, 1), bias=False)\n",
       "      (conv2): Conv2d(64, 64, kernel_size=(3, 3), stride=(2, 2), padding=(1, 1), bias=False)\n",
       "      (conv3): Conv2d(64, 256, kernel_size=(1, 1), stride=(1, 1), bias=False)\n",
       "      (relu): ReLU(inplace=True)\n",
       "      (bn1): BatchNorm2d(64, eps=1e-05, momentum=0.1, affine=True, track_running_stats=True)\n",
       "      (bn2): BatchNorm2d(64, eps=1e-05, momentum=0.1, affine=True, track_running_stats=True)\n",
       "      (bn3): BatchNorm2d(256, eps=1e-05, momentum=0.1, affine=True, track_running_stats=True)\n",
       "      (downsample): Sequential(\n",
       "        (0): Conv2d(128, 256, kernel_size=(1, 1), stride=(2, 2), bias=False)\n",
       "        (1): BatchNorm2d(256, eps=1e-05, momentum=0.1, affine=True, track_running_stats=True)\n",
       "      )\n",
       "    )\n",
       "    (1): Bottleneck(\n",
       "      (conv1): Conv2d(256, 64, kernel_size=(1, 1), stride=(1, 1), bias=False)\n",
       "      (conv2): Conv2d(64, 64, kernel_size=(3, 3), stride=(1, 1), padding=(1, 1), bias=False)\n",
       "      (conv3): Conv2d(64, 256, kernel_size=(1, 1), stride=(1, 1), bias=False)\n",
       "      (relu): ReLU(inplace=True)\n",
       "      (bn1): BatchNorm2d(64, eps=1e-05, momentum=0.1, affine=True, track_running_stats=True)\n",
       "      (bn2): BatchNorm2d(64, eps=1e-05, momentum=0.1, affine=True, track_running_stats=True)\n",
       "      (bn3): BatchNorm2d(256, eps=1e-05, momentum=0.1, affine=True, track_running_stats=True)\n",
       "    )\n",
       "    (2): Bottleneck(\n",
       "      (conv1): Conv2d(256, 64, kernel_size=(1, 1), stride=(1, 1), bias=False)\n",
       "      (conv2): Conv2d(64, 64, kernel_size=(3, 3), stride=(1, 1), padding=(1, 1), bias=False)\n",
       "      (conv3): Conv2d(64, 256, kernel_size=(1, 1), stride=(1, 1), bias=False)\n",
       "      (relu): ReLU(inplace=True)\n",
       "      (bn1): BatchNorm2d(64, eps=1e-05, momentum=0.1, affine=True, track_running_stats=True)\n",
       "      (bn2): BatchNorm2d(64, eps=1e-05, momentum=0.1, affine=True, track_running_stats=True)\n",
       "      (bn3): BatchNorm2d(256, eps=1e-05, momentum=0.1, affine=True, track_running_stats=True)\n",
       "    )\n",
       "    (3): Bottleneck(\n",
       "      (conv1): Conv2d(256, 64, kernel_size=(1, 1), stride=(1, 1), bias=False)\n",
       "      (conv2): Conv2d(64, 64, kernel_size=(3, 3), stride=(1, 1), padding=(1, 1), bias=False)\n",
       "      (conv3): Conv2d(64, 256, kernel_size=(1, 1), stride=(1, 1), bias=False)\n",
       "      (relu): ReLU(inplace=True)\n",
       "      (bn1): BatchNorm2d(64, eps=1e-05, momentum=0.1, affine=True, track_running_stats=True)\n",
       "      (bn2): BatchNorm2d(64, eps=1e-05, momentum=0.1, affine=True, track_running_stats=True)\n",
       "      (bn3): BatchNorm2d(256, eps=1e-05, momentum=0.1, affine=True, track_running_stats=True)\n",
       "    )\n",
       "    (4): Bottleneck(\n",
       "      (conv1): Conv2d(256, 64, kernel_size=(1, 1), stride=(1, 1), bias=False)\n",
       "      (conv2): Conv2d(64, 64, kernel_size=(3, 3), stride=(1, 1), padding=(1, 1), bias=False)\n",
       "      (conv3): Conv2d(64, 256, kernel_size=(1, 1), stride=(1, 1), bias=False)\n",
       "      (relu): ReLU(inplace=True)\n",
       "      (bn1): BatchNorm2d(64, eps=1e-05, momentum=0.1, affine=True, track_running_stats=True)\n",
       "      (bn2): BatchNorm2d(64, eps=1e-05, momentum=0.1, affine=True, track_running_stats=True)\n",
       "      (bn3): BatchNorm2d(256, eps=1e-05, momentum=0.1, affine=True, track_running_stats=True)\n",
       "    )\n",
       "    (5): Bottleneck(\n",
       "      (conv1): Conv2d(256, 64, kernel_size=(1, 1), stride=(1, 1), bias=False)\n",
       "      (conv2): Conv2d(64, 64, kernel_size=(3, 3), stride=(1, 1), padding=(1, 1), bias=False)\n",
       "      (conv3): Conv2d(64, 256, kernel_size=(1, 1), stride=(1, 1), bias=False)\n",
       "      (relu): ReLU(inplace=True)\n",
       "      (bn1): BatchNorm2d(64, eps=1e-05, momentum=0.1, affine=True, track_running_stats=True)\n",
       "      (bn2): BatchNorm2d(64, eps=1e-05, momentum=0.1, affine=True, track_running_stats=True)\n",
       "      (bn3): BatchNorm2d(256, eps=1e-05, momentum=0.1, affine=True, track_running_stats=True)\n",
       "    )\n",
       "  )\n",
       "  (avgpool): AvgPool2d(kernel_size=8, stride=8, padding=0)\n",
       "  (fc): Linear(in_features=256, out_features=10, bias=True)\n",
       ")"
      ]
     },
     "execution_count": 6,
     "metadata": {},
     "output_type": "execute_result"
    }
   ],
   "source": [
    "device = 'cuda:0'\n",
    "\n",
    "# teacher = ResNet(opt = 'none', init = 'kaiming', num_classes = 10, batchnorm = True, width = 4, depth = 50, bottleneck= True)\n",
    "teacher = ResNet(opt = 'none', init = 'kaiming', num_classes = 10, batchnorm = True, width = 1, depth = 56, bottleneck= True)\n",
    "\n",
    "# filename = './checkpoint/cifar10/res-50-4-t-bn/sgd/step/kaiming_both_none_0.1_0.1_0.1_0.1_seed1_False.pt'\n",
    "filename = './checkpoint/cifar10/res-56-1-t-bn/sgd/step/ort_both_none_0.01_0.01_0.01_0.01_seed1_False.pt'\n",
    "# filename = './checkpoint/cifar10/res-50-4-f-bn/sgd/step/ort_both_norm_0.1_0.1_0.1_0.1_seed1_True.pt'\n",
    "# filename = './checkpoint/cifar10/res-50-4-f-bn/sgd/step/ort_both_ortho_0.01_0.01_0.01_0.01_seed4_True.pt' # ortho\n",
    "# filename = './checkpoint/cifar10/res-50-4-f-bn/sgd/step/xavier_both_ort_0.1_0.1_0.1_0.1_seed1_True.pt' #norm\n",
    "\n",
    "checkpoint = torch.load(filename, map_location=device)['best_wts']\n",
    "teacher.load_state_dict(checkpoint, strict=False)\n",
    "teacher.eval()"
   ]
  },
  {
   "cell_type": "markdown",
   "metadata": {},
   "source": [
    "Teacher : wrn-28-4"
   ]
  },
  {
   "cell_type": "code",
   "execution_count": 7,
   "metadata": {},
   "outputs": [],
   "source": [
    "teacher = teacher.to(device)\n",
    "representer = Represent(teacher)"
   ]
  },
  {
   "cell_type": "code",
   "execution_count": 8,
   "metadata": {},
   "outputs": [
    {
     "name": "stdout",
     "output_type": "stream",
     "text": [
      "[0.0000e+00 0.0000e+00 0.0000e+00 0.0000e+00 2.0000e+00 7.0000e+00\n",
      " 1.8000e+01 2.9000e+01 1.0000e+02 4.9832e+04]\n",
      "[0.00000000e+00 0.00000000e+00 0.00000000e+00 0.00000000e+00\n",
      " 8.78547251e-01 7.14720881e+00 1.43630999e+01 2.34759433e+01\n",
      " 8.64840105e+01 4.97848639e+04]\n"
     ]
    }
   ],
   "source": [
    "label_list, out_list, pred_list, score_list, logit_sum_list = get_statistics(dataloaders, device, representer, teacher, mode = 'train')\n",
    "x_axis, conf_list, acc_list, counts = compute_reliability_diagram(label_list, pred_list, score_list)"
   ]
  },
  {
   "cell_type": "code",
   "execution_count": 9,
   "metadata": {},
   "outputs": [
    {
     "name": "stdout",
     "output_type": "stream",
     "text": [
      "0.00710816645026225\n"
     ]
    },
    {
     "data": {
      "image/png": "[encoded data removed]",
      "text/plain": [
       "<Figure size 432x288 with 1 Axes>"
      ]
     },
     "metadata": {
      "needs_background": "light"
     },
     "output_type": "display_data"
    }
   ],
   "source": [
    "plt.plot(np.linspace(0,1,11), np.linspace(0,1,11))\n",
    "plt.bar(x_axis, conf_list,  width=0.1, edgecolor=\"black\", align='edge', alpha=0.6, color='red')\n",
    "plt.bar(x_axis, acc_list,  width=0.1, edgecolor=\"black\", alpha=0.8, align='edge', color='blue')\n",
    "plt.grid()\n",
    "ECE = np.sum(np.abs((np.array(acc_list)-np.array(conf_list))) * counts) / 10000\n",
    "print(ECE)\n",
    "plt.savefig('train_none_conf_{:.4f}.pdf'.format(ECE))"
   ]
  },
  {
   "cell_type": "code",
   "execution_count": 18,
   "metadata": {},
   "outputs": [
    {
     "name": "stdout",
     "output_type": "stream",
     "text": [
      "[0.000e+00 0.000e+00 0.000e+00 7.000e+00 2.100e+01 8.500e+01 1.320e+02\n",
      " 1.530e+02 2.490e+02 8.246e+03]\n",
      "[0.00000000e+00 0.00000000e+00 2.99019068e-01 6.49383739e+00\n",
      " 2.85935177e+01 1.22947779e+02 1.69009545e+02 2.14030569e+02\n",
      " 3.41369753e+02 8.70150178e+03]\n"
     ]
    }
   ],
   "source": [
    "label_list, out_list, pred_list, score_list, logit_sum_list = get_statistics(dataloaders, device, representer, teacher, mode = 'test')\n",
    "x_axis, conf_list, acc_list, counts = compute_reliability_diagram(label_list, pred_list, score_list)"
   ]
  },
  {
   "cell_type": "code",
   "execution_count": 19,
   "metadata": {},
   "outputs": [
    {
     "name": "stdout",
     "output_type": "stream",
     "text": [
      "0.06922581210732451\n"
     ]
    },
    {
     "data": {
      "image/png": "[encoded data removed]",
      "text/plain": [
       "<Figure size 432x288 with 1 Axes>"
      ]
     },
     "metadata": {
      "needs_background": "light"
     },
     "output_type": "display_data"
    }
   ],
   "source": [
    "plt.plot(np.linspace(0,1,11), np.linspace(0,1,11))\n",
    "plt.bar(x_axis, conf_list,  width=0.1, edgecolor=\"black\", align='edge', alpha=0.6, color='red')\n",
    "plt.bar(x_axis, acc_list,  width=0.1, edgecolor=\"black\", alpha=0.8, align='edge', color='blue')\n",
    "plt.grid()\n",
    "ECE = np.sum(np.abs((np.array(acc_list)-np.array(conf_list))) * counts) / 10000\n",
    "print(ECE)\n",
    "plt.savefig('test_none_conf_{:.4f}.pdf'.format(ECE))"
   ]
  },
  {
   "cell_type": "markdown",
   "metadata": {},
   "source": [
    "----"
   ]
  },
  {
   "cell_type": "markdown",
   "metadata": {},
   "source": [
    "# norm"
   ]
  },
  {
   "cell_type": "code",
   "execution_count": 22,
   "metadata": {},
   "outputs": [],
   "source": [
    "device = 'cuda:0'\n",
    "\n",
    "# teacher = ResNet(opt = 'none', init = 'kaiming', num_classes = 10, batchnorm = True, width = 4, depth = 50, bottleneck= True)\n",
    "teacher = ResNet(opt = 'none', init = 'kaiming', num_classes = 10, batchnorm = True, width = 4, depth = 50, bottleneck= False)\n",
    "\n",
    "# filename = './checkpoint/cifar10/res-50-4-t-bn/sgd/step/kaiming_both_none_0.1_0.1_0.1_0.1_seed1_False.pt'\n",
    "# filename = './checkpoint/cifar10/res-50-4-f-bn/sgd/step/ort_both_none_0.01_0.01_0.01_0.01_seed3.pt'\n",
    "filename = './checkpoint/cifar10/res-50-4-f-bn/sgd/step/ort_both_norm_0.1_0.1_0.1_0.1_seed1_True.pt'\n",
    "# filename = './checkpoint/cifar10/res-50-4-f-bn/sgd/step/xavier_both_srip_0.1_0.1_0.1_0.1_seed1.pt'\n",
    "\n",
    "# filename = './checkpoint/cifar10/res-50-4-f-bn/sgd/step/ort_both_ortho_0.01_0.01_0.01_0.01_seed4_True.pt' # ortho\n",
    "# filename = './checkpoint/cifar10/res-50-4-f-bn/sgd/step/xavier_both_ort_0.1_0.1_0.1_0.1_seed1_True.pt' #norm\n",
    "\n",
    "checkpoint = torch.load(filename, map_location=device)['best_wts']\n",
    "teacher.load_state_dict(checkpoint, strict=False)\n",
    "teacher.eval()\n",
    "teacher = teacher.to(device)\n",
    "representer = Represent(teacher)"
   ]
  },
  {
   "cell_type": "code",
   "execution_count": 23,
   "metadata": {},
   "outputs": [
    {
     "name": "stdout",
     "output_type": "stream",
     "text": [
      "[0.0000e+00 0.0000e+00 0.0000e+00 1.0000e+00 6.0000e+00 2.0000e+01\n",
      " 3.5000e+01 3.6000e+01 7.7000e+01 4.9546e+04]\n",
      "[0.00000000e+00 0.00000000e+00 0.00000000e+00 1.87995544e+00\n",
      " 5.87244672e+00 2.75964152e+01 3.66019262e+01 5.21291873e+01\n",
      " 9.46197802e+01 4.96727663e+04]\n"
     ]
    }
   ],
   "source": [
    "label_list, out_list, pred_list, score_list, logit_sum_list = get_statistics(dataloaders, device, representer, teacher, mode = 'train')\n",
    "x_axis, conf_list, acc_list, counts = compute_reliability_diagram(label_list, pred_list, score_list)"
   ]
  },
  {
   "cell_type": "code",
   "execution_count": 24,
   "metadata": {},
   "outputs": [
    {
     "name": "stdout",
     "output_type": "stream",
     "text": [
      "0.017072113099694555\n"
     ]
    },
    {
     "data": {
      "image/png": "[encoded data removed]",
      "text/plain": [
       "<Figure size 432x288 with 1 Axes>"
      ]
     },
     "metadata": {
      "needs_background": "light"
     },
     "output_type": "display_data"
    }
   ],
   "source": [
    "plt.plot(np.linspace(0,1,11), np.linspace(0,1,11))\n",
    "plt.bar(x_axis, conf_list,  width=0.1, edgecolor=\"black\", align='edge', alpha=0.6, color='red')\n",
    "plt.bar(x_axis, acc_list,  width=0.1, edgecolor=\"black\", alpha=0.8, align='edge', color='blue')\n",
    "plt.grid()\n",
    "ECE = np.sum(np.abs((np.array(acc_list)-np.array(conf_list))) * counts) / 10000\n",
    "print(ECE)\n",
    "plt.savefig('train_norm_conf_{:.4f}.pdf'.format(ECE))"
   ]
  },
  {
   "cell_type": "code",
   "execution_count": 25,
   "metadata": {},
   "outputs": [
    {
     "name": "stdout",
     "output_type": "stream",
     "text": [
      "[0.000e+00 0.000e+00 0.000e+00 1.000e+00 8.000e+00 5.000e+01 5.100e+01\n",
      " 7.500e+01 1.010e+02 9.155e+03]\n",
      "[0.00000000e+00 0.00000000e+00 0.00000000e+00 2.19186118e+00\n",
      " 1.12417047e+01 5.97806259e+01 6.62099663e+01 9.54126441e+01\n",
      " 1.37646432e+02 9.44658233e+03]\n"
     ]
    }
   ],
   "source": [
    "label_list, out_list, pred_list, score_list, logit_sum_list = get_statistics(dataloaders, device, representer, teacher, mode = 'test')\n",
    "x_axis, conf_list, acc_list, counts = compute_reliability_diagram(label_list, pred_list, score_list)"
   ]
  },
  {
   "cell_type": "code",
   "execution_count": 26,
   "metadata": {},
   "outputs": [
    {
     "name": "stdout",
     "output_type": "stream",
     "text": [
      "0.03780655645430086\n"
     ]
    },
    {
     "data": {
      "image/png": "[encoded data removed]",
      "text/plain": [
       "<Figure size 432x288 with 1 Axes>"
      ]
     },
     "metadata": {
      "needs_background": "light"
     },
     "output_type": "display_data"
    }
   ],
   "source": [
    "plt.plot(np.linspace(0,1,11), np.linspace(0,1,11))\n",
    "plt.bar(x_axis, conf_list,  width=0.1, edgecolor=\"black\", align='edge', alpha=0.6, color='red')\n",
    "plt.bar(x_axis, acc_list,  width=0.1, edgecolor=\"black\", alpha=0.8, align='edge', color='blue')\n",
    "plt.grid()\n",
    "ECE = np.sum(np.abs((np.array(acc_list)-np.array(conf_list))) * counts) / 10000\n",
    "print(ECE)\n",
    "plt.savefig('test_norm_conf_{:.4f}.pdf'.format(ECE))"
   ]
  },
  {
   "cell_type": "markdown",
   "metadata": {},
   "source": [
    "-----"
   ]
  },
  {
   "cell_type": "markdown",
   "metadata": {},
   "source": [
    "# SRIP"
   ]
  },
  {
   "cell_type": "code",
   "execution_count": 27,
   "metadata": {},
   "outputs": [],
   "source": [
    "device = 'cuda:1'\n",
    "\n",
    "# teacher = ResNet(opt = 'none', init = 'kaiming', num_classes = 10, batchnorm = True, width = 4, depth = 50, bottleneck= True)\n",
    "teacher = ResNet(opt = 'none', init = 'kaiming', num_classes = 10, batchnorm = True, width = 4, depth = 50, bottleneck= False)\n",
    "\n",
    "# filename = './checkpoint/cifar10/res-50-4-t-bn/sgd/step/kaiming_both_none_0.1_0.1_0.1_0.1_seed1_False.pt'\n",
    "# filename = './checkpoint/cifar10/res-50-4-f-bn/sgd/step/ort_both_none_0.01_0.01_0.01_0.01_seed3.pt'\n",
    "filename = './checkpoint/cifar10/res-50-4-f-bn/sgd/step/kaiming_both_srip_0.1_0.1_0.1_0.1_seed1.pt'\n",
    "# filename = './checkpoint/cifar10/res-50-4-f-bn/sgd/step/xavier_both_srip_0.1_0.1_0.1_0.1_seed1.pt'\n",
    "\n",
    "# filename = './checkpoint/cifar10/res-50-4-f-bn/sgd/step/ort_both_ortho_0.01_0.01_0.01_0.01_seed4_True.pt' # ortho\n",
    "# filename = './checkpoint/cifar10/res-50-4-f-bn/sgd/step/xavier_both_ort_0.1_0.1_0.1_0.1_seed1_True.pt' #norm\n",
    "\n",
    "checkpoint = torch.load(filename, map_location=device)['best_wts']\n",
    "teacher.load_state_dict(checkpoint, strict=False)\n",
    "teacher.eval()\n",
    "teacher = teacher.to(device)\n",
    "representer = Represent(teacher)"
   ]
  },
  {
   "cell_type": "code",
   "execution_count": 28,
   "metadata": {},
   "outputs": [
    {
     "name": "stdout",
     "output_type": "stream",
     "text": [
      "[0.000e+00 0.000e+00 0.000e+00 4.000e+00 1.200e+01 5.900e+01 7.000e+01\n",
      " 7.400e+01 1.660e+02 9.028e+03]\n",
      "[0.00000000e+00 0.00000000e+00 5.51290244e-01 3.69386551e+00\n",
      " 1.55617069e+01 7.10470047e+01 8.58852592e+01 1.19168426e+02\n",
      " 2.02805403e+02 9.26365547e+03]\n"
     ]
    }
   ],
   "source": [
    "label_list, out_list, pred_list, score_list, logit_sum_list = get_statistics(dataloaders, device, representer, teacher, mode = 'test')\n",
    "x_axis, conf_list, acc_list,counts = compute_reliability_diagram(label_list, pred_list, score_list)"
   ]
  },
  {
   "cell_type": "code",
   "execution_count": 29,
   "metadata": {},
   "outputs": [
    {
     "name": "stdout",
     "output_type": "stream",
     "text": [
      "0.034998068943619814\n"
     ]
    },
    {
     "data": {
      "image/png": "[encoded data removed]",
      "text/plain": [
       "<Figure size 432x288 with 1 Axes>"
      ]
     },
     "metadata": {
      "needs_background": "light"
     },
     "output_type": "display_data"
    }
   ],
   "source": [
    "plt.plot(np.linspace(0,1,11), np.linspace(0,1,11))\n",
    "plt.bar(x_axis, conf_list,  width=0.1, edgecolor=\"black\", align='edge', alpha=0.6, color='red')\n",
    "plt.bar(x_axis, acc_list,  width=0.1, edgecolor=\"black\", alpha=0.8, align='edge', color='blue')\n",
    "plt.grid()\n",
    "ECE = np.sum(np.abs((np.array(acc_list)-np.array(conf_list))) * counts) / 10000\n",
    "print(ECE)\n",
    "plt.savefig('test_srip_conf_{:.4f}.pdf'.format(ECE))"
   ]
  },
  {
   "cell_type": "markdown",
   "metadata": {},
   "source": [
    "---"
   ]
  },
  {
   "cell_type": "markdown",
   "metadata": {},
   "source": [
    "# tem 20"
   ]
  },
  {
   "cell_type": "code",
   "execution_count": 30,
   "metadata": {},
   "outputs": [],
   "source": [
    "device = 'cuda:1'\n",
    "\n",
    "# teacher = ResNet(opt = 'none', init = 'kaiming', num_classes = 10, batchnorm = True, width = 4, depth = 50, bottleneck= True)\n",
    "teacher = ResNet(opt = 'none', init = 'kaiming', num_classes = 10, batchnorm = True, width = 4, depth = 50, bottleneck= False)\n",
    "\n",
    "# filename = './checkpoint/cifar10/res-50-4-t-bn/sgd/step/kaiming_both_none_0.1_0.1_0.1_0.1_seed1_False.pt'\n",
    "# filename = './checkpoint/cifar10/res-50-4-f-bn/sgd/step/ort_both_none_0.01_0.01_0.01_0.01_seed3.pt'\n",
    "filename = './checkpoint/cifar10/res-50-4-f-bn/sgd/step/xavier_both_srip_0.1_0.1_0.1_0.1_seed1.pt'\n",
    "# filename = './checkpoint/cifar10/res-50-4-f-bn/sgd/step/xavier_both_srip_0.1_0.1_0.1_0.1_seed1.pt'\n",
    "\n",
    "# filename = './checkpoint/cifar10/res-50-4-f-bn/sgd/step/ort_both_ortho_0.01_0.01_0.01_0.01_seed4_True.pt' # ortho\n",
    "# filename = './checkpoint/cifar10/res-50-4-f-bn/sgd/step/xavier_both_ort_0.1_0.1_0.1_0.1_seed1_True.pt' #norm\n",
    "\n",
    "checkpoint = torch.load(filename, map_location=device)['best_wts']\n",
    "teacher.load_state_dict(checkpoint, strict=False)\n",
    "teacher.eval()\n",
    "teacher = teacher.to(device)\n",
    "representer = Represent(teacher)"
   ]
  },
  {
   "cell_type": "code",
   "execution_count": 31,
   "metadata": {},
   "outputs": [
    {
     "name": "stdout",
     "output_type": "stream",
     "text": [
      "[0.000e+00 0.000e+00 0.000e+00 2.000e+00 1.300e+01 6.300e+01 6.900e+01\n",
      " 7.200e+01 1.410e+02 9.059e+03]\n",
      "[0.00000000e+00 0.00000000e+00 0.00000000e+00 4.40488476e+00\n",
      " 1.65809584e+01 7.63835248e+01 7.29429224e+01 1.07612308e+02\n",
      " 1.73595890e+02 9.32277765e+03]\n"
     ]
    }
   ],
   "source": [
    "label_list, out_list, pred_list, score_list, logit_sum_list = get_statistics(dataloaders, device, representer, teacher, mode = 'test')\n",
    "x_axis, conf_list, acc_list,counts = compute_reliability_diagram(label_list, pred_list, score_list)"
   ]
  },
  {
   "cell_type": "code",
   "execution_count": 32,
   "metadata": {},
   "outputs": [
    {
     "name": "stdout",
     "output_type": "stream",
     "text": [
      "0.03552981413602829\n"
     ]
    },
    {
     "data": {
      "image/png": "[encoded data removed]",
      "text/plain": [
       "<Figure size 432x288 with 1 Axes>"
      ]
     },
     "metadata": {
      "needs_background": "light"
     },
     "output_type": "display_data"
    }
   ],
   "source": [
    "plt.plot(np.linspace(0,1,11), np.linspace(0,1,11))\n",
    "plt.bar(x_axis, conf_list,  width=0.1, edgecolor=\"black\", align='edge', alpha=0.6, color='red')\n",
    "plt.bar(x_axis, acc_list,  width=0.1, edgecolor=\"black\", alpha=0.8, align='edge', color='blue')\n",
    "plt.grid()\n",
    "ECE = np.sum(np.abs((np.array(acc_list)-np.array(conf_list))) * counts) / 10000\n",
    "print(ECE)\n",
    "plt.savefig('test_srip_p_conf_{:.4f}.pdf'.format(ECE))"
   ]
  },
  {
   "cell_type": "code",
   "execution_count": 181,
   "metadata": {},
   "outputs": [
    {
     "data": {
      "image/png": "[encoded data removed]",
      "text/plain": [
       "<Figure size 432x288 with 1 Axes>"
      ]
     },
     "metadata": {
      "needs_background": "light"
     },
     "output_type": "display_data"
    }
   ],
   "source": [
    "plt.plot(np.linspace(0,1,11), np.linspace(0,1,11))\n",
    "plt.bar(x_axis, acc_list,  width=0.1, edgecolor=\"black\", align='edge')\n",
    "plt.bar(x_axis, x_axis+0.1,  width=0.1, edgecolor=\"black\", alpha=0.3, align='edge')\n",
    "plt.grid()\n",
    "plt.savefig('acc_tem20_conf_{:.3f}.pdf'.format(np.sum(np.linspace(0.1, 1.0, 10)-acc_list)))"
   ]
  },
  {
   "cell_type": "markdown",
   "metadata": {},
   "source": [
    "---"
   ]
  },
  {
   "cell_type": "markdown",
   "metadata": {},
   "source": [
    "# tem 100"
   ]
  },
  {
   "cell_type": "code",
   "execution_count": 288,
   "metadata": {},
   "outputs": [],
   "source": [
    "device = torch.device('cuda:0')\n",
    "\n",
    "teacher = cifar.WideResNet(depth=16, widen_factor=2, num_classes=100)\n",
    "# filename = './model_checkpoints/cifar100/None/wrn-28-4/alp_0.1_T_1.0/random_highest_1.0_random_highest_1.0_seed9999_none.t1'\n",
    "# filename = './model_checkpoints/cifar100/None/wrn-16-2/alp_0.1_T_1.0/random_highest_1.0_random_highest_1.0_seed9999_none.t1'\n",
    "# filename = './model_checkpoints/cifar100/wrn-28-4/wrn-16-2/alp_1.0_T_3.0/random_0.0-1.0_random_0.0-1.0_seed9999_none_noclas.t1'\n",
    "# filename = './model_checkpoints/cifar100/wrn-28-4/wrn-16-2/alp_1.0_T_20.0/random_0.0-1.0_random_0.0-1.0_seed9999_none_noclas.t1'\n",
    "filename = './model_checkpoints/cifar100/wrn-28-4/wrn-16-2/alp_1.0_T_100.0/random_0.0-1.0_random_0.0-1.0_seed9999_none_noclas.t1'\n",
    "# filename = './model_checkpoints/cifar100/wrn-28-4/wrn-16-2/alp_1.0_T_150.0/random_0.0-1.0_random_0.0-1.0_seed9999_none_noclas.t1'\n",
    "# filename = './model_checkpoints/cifar100/wrn-28-4/wrn-16-2/alp_1.0_T_1000.0/random_0.0-1.0_random_0.0-1.0_seed9999_none_noclas.t1'\n",
    "\n",
    "# filename = './model_checkpoints/cifar100/wrn-28-4/wrn-16-2/alp_0.0_T_0.0/random_highest_1.0_random_highest_1.0_seed9999.t1'\n",
    "checkpoint = torch.load(filename, map_location=device)['199']\n",
    "teacher.load_state_dict(checkpoint, strict=True)\n",
    "teacher.eval()\n",
    "device = 'cuda:0'\n",
    "teacher = teacher.to(device)\n",
    "representer = Represent(teacher)"
   ]
  },
  {
   "cell_type": "code",
   "execution_count": 289,
   "metadata": {},
   "outputs": [
    {
     "name": "stdout",
     "output_type": "stream",
     "text": [
      "[0.000e+00 5.000e+00 1.500e+01 3.900e+01 1.020e+02 1.720e+02 1.540e+02\n",
      " 2.060e+02 3.600e+02 6.388e+03]\n",
      "[2.77909629e-01 4.74192138e+00 2.45644889e+01 7.00022464e+01\n",
      " 1.44564872e+02 2.55019252e+02 2.78881925e+02 3.37528005e+02\n",
      " 5.80315688e+02 7.26436443e+03]\n"
     ]
    }
   ],
   "source": [
    "label_list, out_list, pred_list, score_list, logit_sum_list = get_statistics(dataloaders, device, representer, teacher, mode = 'test')\n",
    "x_axis, conf_list, acc_list, counts = compute_reliability_diagram(label_list, pred_list, score_list)"
   ]
  },
  {
   "cell_type": "code",
   "execution_count": 291,
   "metadata": {},
   "outputs": [
    {
     "name": "stdout",
     "output_type": "stream",
     "text": [
      "0.15197769008651377\n"
     ]
    },
    {
     "data": {
      "image/png": "[encoded data removed]",
      "text/plain": [
       "<Figure size 432x288 with 1 Axes>"
      ]
     },
     "metadata": {
      "needs_background": "light"
     },
     "output_type": "display_data"
    }
   ],
   "source": [
    "plt.plot(np.linspace(0,1,11), np.linspace(0,1,11))\n",
    "plt.bar(x_axis, conf_list,  width=0.1, edgecolor=\"black\", align='edge', alpha=0.6, color='red')\n",
    "plt.bar(x_axis, acc_list,  width=0.1, edgecolor=\"black\", alpha=0.8, align='edge', color='blue')\n",
    "plt.grid()\n",
    "ECE = np.sum(np.abs((np.array(acc_list)-np.array(conf_list))) * counts) / 10000\n",
    "print(ECE)\n",
    "plt.savefig('ece_tem100_conf_{:.4f}.pdf'.format(ECE))"
   ]
  },
  {
   "cell_type": "code",
   "execution_count": 186,
   "metadata": {},
   "outputs": [
    {
     "data": {
      "image/png": "[encoded data removed]",
      "text/plain": [
       "<Figure size 432x288 with 1 Axes>"
      ]
     },
     "metadata": {
      "needs_background": "light"
     },
     "output_type": "display_data"
    }
   ],
   "source": [
    "plt.plot(np.linspace(0,1,11), np.linspace(0,1,11))\n",
    "plt.bar(x_axis, acc_list,  width=0.1, edgecolor=\"black\", align='edge')\n",
    "plt.bar(x_axis, x_axis+0.1,  width=0.1, edgecolor=\"black\", alpha=0.3, align='edge')\n",
    "plt.grid()\n",
    "plt.savefig('acc_tem100_conf_{:.3f}.pdf'.format(np.sum(np.linspace(0.1, 1.0, 10)-acc_list)))"
   ]
  },
  {
   "cell_type": "markdown",
   "metadata": {},
   "source": [
    "---"
   ]
  },
  {
   "cell_type": "markdown",
   "metadata": {},
   "source": [
    "# tem 150"
   ]
  },
  {
   "cell_type": "code",
   "execution_count": 292,
   "metadata": {},
   "outputs": [],
   "source": [
    "device = torch.device('cuda:0')\n",
    "\n",
    "teacher = cifar.WideResNet(depth=16, widen_factor=2, num_classes=100)\n",
    "# filename = './model_checkpoints/cifar100/None/wrn-28-4/alp_0.1_T_1.0/random_highest_1.0_random_highest_1.0_seed9999_none.t1'\n",
    "# filename = './model_checkpoints/cifar100/None/wrn-16-2/alp_0.1_T_1.0/random_highest_1.0_random_highest_1.0_seed9999_none.t1'\n",
    "# filename = './model_checkpoints/cifar100/wrn-28-4/wrn-16-2/alp_1.0_T_3.0/random_0.0-1.0_random_0.0-1.0_seed9999_none_noclas.t1'\n",
    "# filename = './model_checkpoints/cifar100/wrn-28-4/wrn-16-2/alp_1.0_T_20.0/random_0.0-1.0_random_0.0-1.0_seed9999_none_noclas.t1'\n",
    "# filename = './model_checkpoints/cifar100/wrn-28-4/wrn-16-2/alp_1.0_T_100.0/random_0.0-1.0_random_0.0-1.0_seed9999_none_noclas.t1'\n",
    "filename = './model_checkpoints/cifar100/wrn-28-4/wrn-16-2/alp_1.0_T_150.0/random_0.0-1.0_random_0.0-1.0_seed9999_none_noclas.t1'\n",
    "# filename = './model_checkpoints/cifar100/wrn-28-4/wrn-16-2/alp_1.0_T_1000.0/random_0.0-1.0_random_0.0-1.0_seed9999_none_noclas.t1'\n",
    "\n",
    "# filename = './model_checkpoints/cifar100/wrn-28-4/wrn-16-2/alp_0.0_T_0.0/random_highest_1.0_random_highest_1.0_seed9999.t1'\n",
    "checkpoint = torch.load(filename, map_location=device)['199']\n",
    "teacher.load_state_dict(checkpoint, strict=True)\n",
    "teacher.eval()\n",
    "device = 'cuda:0'\n",
    "teacher = teacher.to(device)\n",
    "representer = Represent(teacher)"
   ]
  },
  {
   "cell_type": "code",
   "execution_count": 293,
   "metadata": {},
   "outputs": [
    {
     "name": "stdout",
     "output_type": "stream",
     "text": [
      "[0.00e+00 3.00e+00 1.90e+01 5.40e+01 8.80e+01 1.54e+02 1.94e+02 2.09e+02\n",
      " 3.54e+02 6.43e+03]\n",
      "[0.00000000e+00 4.34340854e+00 2.94431923e+01 7.65168610e+01\n",
      " 1.38180871e+02 2.35344734e+02 3.16841408e+02 3.35625318e+02\n",
      " 5.54510668e+02 7.25190736e+03]\n"
     ]
    }
   ],
   "source": [
    "label_list, out_list, pred_list, score_list, logit_sum_list = get_statistics(dataloaders, device, representer, teacher, mode = 'test')\n",
    "x_axis, conf_list, acc_list, counts = compute_reliability_diagram(label_list, pred_list, score_list)"
   ]
  },
  {
   "cell_type": "code",
   "execution_count": 295,
   "metadata": {},
   "outputs": [
    {
     "name": "stdout",
     "output_type": "stream",
     "text": [
      "0.1437713823720813\n"
     ]
    },
    {
     "data": {
      "image/png": "[encoded data removed]",
      "text/plain": [
       "<Figure size 432x288 with 1 Axes>"
      ]
     },
     "metadata": {
      "needs_background": "light"
     },
     "output_type": "display_data"
    }
   ],
   "source": [
    "plt.plot(np.linspace(0,1,11), np.linspace(0,1,11))\n",
    "plt.bar(x_axis, conf_list,  width=0.1, edgecolor=\"black\", align='edge', alpha=0.6, color='red')\n",
    "plt.bar(x_axis, acc_list,  width=0.1, edgecolor=\"black\", alpha=0.8, align='edge', color='blue')\n",
    "plt.grid()\n",
    "ECE = np.sum(np.abs((np.array(acc_list)-np.array(conf_list))) * counts) / 10000\n",
    "print(ECE)\n",
    "plt.savefig('ece_inf_conf_{:.4f}.pdf'.format(ECE))"
   ]
  },
  {
   "cell_type": "code",
   "execution_count": 196,
   "metadata": {},
   "outputs": [
    {
     "data": {
      "image/png": "[encoded data removed]",
      "text/plain": [
       "<Figure size 432x288 with 1 Axes>"
      ]
     },
     "metadata": {
      "needs_background": "light"
     },
     "output_type": "display_data"
    }
   ],
   "source": [
    "plt.plot(np.linspace(0,1,11), np.linspace(0,1,11))\n",
    "plt.bar(x_axis, acc_list,  width=0.1, edgecolor=\"black\", align='edge')\n",
    "plt.bar(x_axis, x_axis+0.1,  width=0.1, edgecolor=\"black\", alpha=0.3, align='edge')\n",
    "plt.grid()\n",
    "plt.savefig('acc_tem150_conf_{:.3f}.pdf'.format(np.sum(np.linspace(0.1, 1.0, 10)-acc_list)))"
   ]
  },
  {
   "cell_type": "markdown",
   "metadata": {},
   "source": [
    "---"
   ]
  },
  {
   "cell_type": "markdown",
   "metadata": {},
   "source": [
    "# tem 1000"
   ]
  },
  {
   "cell_type": "code",
   "execution_count": 296,
   "metadata": {},
   "outputs": [],
   "source": [
    "device = torch.device('cuda:0')\n",
    "\n",
    "teacher = cifar.WideResNet(depth=16, widen_factor=2, num_classes=100)\n",
    "# filename = './model_checkpoints/cifar100/None/wrn-28-4/alp_0.1_T_1.0/random_highest_1.0_random_highest_1.0_seed9999_none.t1'\n",
    "# filename = './model_checkpoints/cifar100/None/wrn-16-2/alp_0.1_T_1.0/random_highest_1.0_random_highest_1.0_seed9999_none.t1'\n",
    "# filename = './model_checkpoints/cifar100/wrn-28-4/wrn-16-2/alp_1.0_T_3.0/random_0.0-1.0_random_0.0-1.0_seed9999_none_noclas.t1'\n",
    "# filename = './model_checkpoints/cifar100/wrn-28-4/wrn-16-2/alp_1.0_T_20.0/random_0.0-1.0_random_0.0-1.0_seed9999_none_noclas.t1'\n",
    "# filename = './model_checkpoints/cifar100/wrn-28-4/wrn-16-2/alp_1.0_T_100.0/random_0.0-1.0_random_0.0-1.0_seed9999_none_noclas.t1'\n",
    "# filename = './model_checkpoints/cifar100/wrn-28-4/wrn-16-2/alp_1.0_T_150.0/random_0.0-1.0_random_0.0-1.0_seed9999_none_noclas.t1'\n",
    "filename = './model_checkpoints/cifar100/wrn-28-4/wrn-16-2/alp_1.0_T_1000.0/random_0.0-1.0_random_0.0-1.0_seed9999_none_noclas.t1'\n",
    "\n",
    "# filename = './model_checkpoints/cifar100/wrn-28-4/wrn-16-2/alp_0.0_T_0.0/random_highest_1.0_random_highest_1.0_seed9999.t1'\n",
    "checkpoint = torch.load(filename, map_location=device)['199']\n",
    "teacher.load_state_dict(checkpoint, strict=True)\n",
    "teacher.eval()\n",
    "device = 'cuda:0'\n",
    "teacher = teacher.to(device)\n",
    "representer = Represent(teacher)"
   ]
  },
  {
   "cell_type": "code",
   "execution_count": 297,
   "metadata": {},
   "outputs": [
    {
     "name": "stdout",
     "output_type": "stream",
     "text": [
      "[0.000e+00 5.000e+00 2.200e+01 5.000e+01 9.300e+01 1.660e+02 1.840e+02\n",
      " 2.310e+02 3.530e+02 6.413e+03]\n",
      "[0.00000000e+00 5.30490091e+00 2.78472640e+01 7.57421328e+01\n",
      " 1.40703921e+02 2.50831814e+02 2.85803441e+02 3.71093033e+02\n",
      " 5.65598747e+02 7.21215930e+03]\n"
     ]
    }
   ],
   "source": [
    "label_list, out_list, pred_list, score_list, logit_sum_list = get_statistics(dataloaders, device, representer, teacher, mode = 'test')\n",
    "x_axis, conf_list, acc_list,counts = compute_reliability_diagram(label_list, pred_list, score_list)"
   ]
  },
  {
   "cell_type": "code",
   "execution_count": 299,
   "metadata": {},
   "outputs": [
    {
     "name": "stdout",
     "output_type": "stream",
     "text": [
      "0.1418084557428956\n"
     ]
    },
    {
     "data": {
      "image/png": "[encoded data removed]",
      "text/plain": [
       "<Figure size 432x288 with 1 Axes>"
      ]
     },
     "metadata": {
      "needs_background": "light"
     },
     "output_type": "display_data"
    }
   ],
   "source": [
    "plt.plot(np.linspace(0,1,11), np.linspace(0,1,11))\n",
    "plt.bar(x_axis, conf_list,  width=0.1, edgecolor=\"black\", align='edge', alpha=0.6, color='red')\n",
    "plt.bar(x_axis, acc_list,  width=0.1, edgecolor=\"black\", alpha=0.8, align='edge', color='blue')\n",
    "plt.grid()\n",
    "ECE = np.sum(np.abs((np.array(acc_list)-np.array(conf_list))) * counts) / 10000\n",
    "print(ECE)\n",
    "plt.savefig('ece_tem1000_conf_{:.4f}.pdf'.format(ECE))"
   ]
  },
  {
   "cell_type": "code",
   "execution_count": 200,
   "metadata": {},
   "outputs": [
    {
     "data": {
      "image/png": "[encoded data removed]",
      "text/plain": [
       "<Figure size 432x288 with 1 Axes>"
      ]
     },
     "metadata": {
      "needs_background": "light"
     },
     "output_type": "display_data"
    }
   ],
   "source": [
    "plt.plot(np.linspace(0,1,11), np.linspace(0,1,11))\n",
    "plt.bar(x_axis, acc_list,  width=0.1, edgecolor=\"black\", align='edge')\n",
    "plt.bar(x_axis, x_axis+0.1,  width=0.1, edgecolor=\"black\", alpha=0.3, align='edge')\n",
    "plt.grid()\n",
    "plt.savefig('acc_tem1000_conf_{:.3f}.pdf'.format(np.sum(np.linspace(0.1, 1.0, 10)-acc_list)))"
   ]
  },
  {
   "cell_type": "markdown",
   "metadata": {},
   "source": [
    "---"
   ]
  },
  {
   "cell_type": "markdown",
   "metadata": {},
   "source": [
    "# mse"
   ]
  },
  {
   "cell_type": "code",
   "execution_count": 300,
   "metadata": {},
   "outputs": [],
   "source": [
    "device = torch.device('cuda:0')\n",
    "\n",
    "teacher = cifar.WideResNet(depth=16, widen_factor=2, num_classes=100)\n",
    "# filename = './model_checkpoints/cifar100/None/wrn-28-4/alp_0.1_T_1.0/random_highest_1.0_random_highest_1.0_seed9999_none.t1'\n",
    "# filename = './model_checkpoints/cifar100/None/wrn-16-2/alp_0.1_T_1.0/random_highest_1.0_random_highest_1.0_seed9999_none.t1'\n",
    "# filename = './model_checkpoints/cifar100/wrn-28-4/wrn-16-2/alp_1.0_T_3.0/random_0.0-1.0_random_0.0-1.0_seed9999_none_noclas.t1'\n",
    "# filename = './model_checkpoints/cifar100/wrn-28-4/wrn-16-2/alp_1.0_T_20.0/random_0.0-1.0_random_0.0-1.0_seed9999_none_noclas.t1'\n",
    "# filename = './model_checkpoints/cifar100/wrn-28-4/wrn-16-2/alp_1.0_T_100.0/random_0.0-1.0_random_0.0-1.0_seed9999_none_noclas.t1'\n",
    "# filename = './model_checkpoints/cifar100/wrn-28-4/wrn-16-2/alp_1.0_T_150.0/random_0.0-1.0_random_0.0-1.0_seed9999_none_noclas.t1'\n",
    "# filename = './model_checkpoints/cifar100/wrn-28-4/wrn-16-2/alp_1.0_T_1000.0/random_0.0-1.0_random_0.0-1.0_seed9999_none_noclas.t1'\n",
    "# filename = './model_checkpoints/cifar100/wrn-28-4/wrn-16-2/alp_1.0_T_1.0/random_0.0-1.0_random_0.0-1.0_seed9999_l2_logit_noclas.t1'\n",
    "filename = './model_checkpoints/cifar100/wrn-28-4/wrn-16-2/alp_0.0_T_0.0/random_highest_1.0_random_highest_1.0_seed9999.t1'\n",
    "checkpoint = torch.load(filename, map_location=device)['199']\n",
    "teacher.load_state_dict(checkpoint, strict=True)\n",
    "teacher.eval()\n",
    "device = 'cuda:0'\n",
    "teacher = teacher.to(device)\n",
    "representer = Represent(teacher)"
   ]
  },
  {
   "cell_type": "code",
   "execution_count": 301,
   "metadata": {},
   "outputs": [
    {
     "name": "stdout",
     "output_type": "stream",
     "text": [
      "[1.000e+00 1.700e+01 5.800e+01 9.000e+01 1.500e+02 1.870e+02 2.220e+02\n",
      " 2.910e+02 4.740e+02 6.009e+03]\n",
      "[1.02072643e+00 2.01337137e+01 6.24954742e+01 1.19679012e+02\n",
      " 1.84206984e+02 2.62257075e+02 3.23669426e+02 4.02424722e+02\n",
      " 6.27825982e+02 6.54117042e+03]\n"
     ]
    }
   ],
   "source": [
    "label_list, out_list, pred_list, score_list, logit_sum_list = get_statistics(dataloaders, device, representer, teacher, mode = 'test')\n",
    "x_axis, conf_list, acc_list, counts = compute_reliability_diagram(label_list, pred_list, score_list)"
   ]
  },
  {
   "cell_type": "code",
   "execution_count": 303,
   "metadata": {},
   "outputs": [
    {
     "name": "stdout",
     "output_type": "stream",
     "text": [
      "0.10458835309557614\n"
     ]
    },
    {
     "data": {
      "image/png": "[encoded data removed]",
      "text/plain": [
       "<Figure size 432x288 with 1 Axes>"
      ]
     },
     "metadata": {
      "needs_background": "light"
     },
     "output_type": "display_data"
    }
   ],
   "source": [
    "plt.plot(np.linspace(0,1,11), np.linspace(0,1,11))\n",
    "plt.bar(x_axis, conf_list,  width=0.1, edgecolor=\"black\", align='edge', alpha=0.6, color='red')\n",
    "plt.bar(x_axis, acc_list,  width=0.1, edgecolor=\"black\", alpha=0.8, align='edge', color='blue')\n",
    "plt.grid()\n",
    "ECE = np.sum(np.abs((np.array(acc_list)-np.array(conf_list))) * counts) / 10000\n",
    "print(ECE)\n",
    "plt.savefig('ece_mse_conf_{:.4f}.pdf'.format(ECE))"
   ]
  },
  {
   "cell_type": "code",
   "execution_count": 204,
   "metadata": {},
   "outputs": [
    {
     "data": {
      "image/png": "[encoded data removed]",
      "text/plain": [
       "<Figure size 432x288 with 1 Axes>"
      ]
     },
     "metadata": {
      "needs_background": "light"
     },
     "output_type": "display_data"
    }
   ],
   "source": [
    "plt.plot(np.linspace(0,1,11), np.linspace(0,1,11))\n",
    "plt.bar(x_axis, acc_list,  width=0.1, edgecolor=\"black\", align='edge')\n",
    "plt.bar(x_axis, x_axis+0.1,  width=0.1, edgecolor=\"black\", alpha=0.3, align='edge')\n",
    "plt.grid()\n",
    "plt.savefig('acc_mse_conf_{:.3f}.pdf'.format(np.sum(np.linspace(0.1, 1.0, 10)-acc_list)))"
   ]
  },
  {
   "cell_type": "code",
   "execution_count": 156,
   "metadata": {},
   "outputs": [
    {
     "data": {
      "image/png": "[encoded data removed]",
      "text/plain": [
       "<Figure size 432x288 with 1 Axes>"
      ]
     },
     "metadata": {
      "needs_background": "light"
     },
     "output_type": "display_data"
    }
   ],
   "source": [
    "label_list, out_list, pred_list, score_list, logit_sum_list = get_statistics(dataloaders, device, representer, teacher, mode = 'train')\n",
    "v_ortho_dict = teacher.linear.weight\n",
    "out, sing_lbl = get_plane(v_ortho_dict, out_list, label_list, device, mode = 'inter')\n",
    "a, b = make_orthonormal_basis(out)\n",
    "x, y = projection(out, a, b)\n",
    "\n",
    "candidate = [0, 1, 2]\n",
    "for j in candidate:\n",
    "    plt.plot(x[label_list[sing_lbl]==j],y[label_list[sing_lbl]==j],'.')\n",
    "plt.xlim(-40,30)\n",
    "plt.ylim(-30,40)\n",
    "plt.savefig('mse_train_inter.pdf')"
   ]
  },
  {
   "cell_type": "code",
   "execution_count": 157,
   "metadata": {},
   "outputs": [
    {
     "data": {
      "image/png": "[encoded data removed]",
      "text/plain": [
       "<Figure size 432x288 with 1 Axes>"
      ]
     },
     "metadata": {
      "needs_background": "light"
     },
     "output_type": "display_data"
    }
   ],
   "source": [
    "label_list, out_list, pred_list, score_list, logit_sum_list = get_statistics(dataloaders, device, representer, teacher, mode = 'test')\n",
    "v_ortho_dict = teacher.linear.weight\n",
    "out, sing_lbl = get_plane(v_ortho_dict, out_list, label_list, device, mode = 'inter')\n",
    "x, y = projection(out, a, b)\n",
    "\n",
    "candidate = [0, 1, 2]\n",
    "for j in candidate:\n",
    "    plt.plot(x[label_list[sing_lbl]==j],y[label_list[sing_lbl]==j],'.')\n",
    "plt.xlim(-40,30)\n",
    "plt.ylim(-30,40)\n",
    "plt.savefig('mse_test_inter.pdf')"
   ]
  },
  {
   "cell_type": "code",
   "execution_count": null,
   "metadata": {},
   "outputs": [],
   "source": []
  }
 ],
 "metadata": {
  "kernelspec": {
   "display_name": "Python 3",
   "language": "python",
   "name": "python3"
  },
  "language_info": {
   "codemirror_mode": {
    "name": "ipython",
    "version": 3
   },
   "file_extension": ".py",
   "mimetype": "text/x-python",
   "name": "python",
   "nbconvert_exporter": "python",
   "pygments_lexer": "ipython3",
   "version": "3.7.3"
  }
 },
 "nbformat": 4,
 "nbformat_minor": 4
}
